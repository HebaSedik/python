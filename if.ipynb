{
  "nbformat": 4,
  "nbformat_minor": 0,
  "metadata": {
    "colab": {
      "provenance": [],
      "authorship_tag": "ABX9TyP1BvrnOiCCn010/+X8APAR",
      "include_colab_link": true
    },
    "kernelspec": {
      "name": "python3",
      "display_name": "Python 3"
    },
    "language_info": {
      "name": "python"
    }
  },
  "cells": [
    {
      "cell_type": "markdown",
      "metadata": {
        "id": "view-in-github",
        "colab_type": "text"
      },
      "source": [
        "<a href=\"https://colab.research.google.com/github/HebaSedik/python/blob/master/if.ipynb\" target=\"_parent\"><img src=\"https://colab.research.google.com/assets/colab-badge.svg\" alt=\"Open In Colab\"/></a>"
      ]
    },
    {
      "cell_type": "code",
      "execution_count": 3,
      "metadata": {
        "colab": {
          "base_uri": "https://localhost:8080/"
        },
        "id": "6sKj0SWlCalu",
        "outputId": "35a0e58b-154b-4454-ef73-a3b526f1d662"
      },
      "outputs": [
        {
          "output_type": "stream",
          "name": "stdout",
          "text": [
            "hello\n"
          ]
        }
      ],
      "source": [
        "x=4\n",
        "if x != 5 :\n",
        "  print('hello')"
      ]
    },
    {
      "cell_type": "code",
      "source": [
        "x=3\n",
        "if x != 3 :\n",
        "  print ('hello')\n",
        "else :\n",
        "  print ('no')\n"
      ],
      "metadata": {
        "colab": {
          "base_uri": "https://localhost:8080/"
        },
        "id": "H14XAidrCfC4",
        "outputId": "e2ff4870-cf06-4259-fb51-9e9cacab5fdd"
      },
      "execution_count": 11,
      "outputs": [
        {
          "output_type": "stream",
          "name": "stdout",
          "text": [
            "no\n"
          ]
        }
      ]
    },
    {
      "cell_type": "code",
      "source": [
        "x = int(input(\"enter number: \"))\n",
        "if x == 4 :\n",
        "  print ('hello')\n",
        "elif x > 8 :\n",
        "  print ('yes')\n",
        "else :\n",
        "  print ('no')"
      ],
      "metadata": {
        "colab": {
          "base_uri": "https://localhost:8080/"
        },
        "id": "Dy9HVAzKCtdj",
        "outputId": "8f222385-a49b-403d-d12d-6811b91ed6bd"
      },
      "execution_count": 17,
      "outputs": [
        {
          "output_type": "stream",
          "name": "stdout",
          "text": [
            "enter number: 9\n",
            "yes\n"
          ]
        }
      ]
    },
    {
      "cell_type": "code",
      "source": [
        "a,b = 5,6\n",
        "max = a if (a>b) else b\n",
        "print (max)\n"
      ],
      "metadata": {
        "colab": {
          "base_uri": "https://localhost:8080/"
        },
        "id": "Qw8Ddg33DJDx",
        "outputId": "4bcc8ba5-971d-4268-98a5-33e281e3bc81"
      },
      "execution_count": 18,
      "outputs": [
        {
          "output_type": "stream",
          "name": "stdout",
          "text": [
            "6\n"
          ]
        }
      ]
    },
    {
      "cell_type": "code",
      "source": [],
      "metadata": {
        "id": "DPCUZTK_Djk1"
      },
      "execution_count": null,
      "outputs": []
    }
  ]
}