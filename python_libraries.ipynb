{
  "nbformat": 4,
  "nbformat_minor": 0,
  "metadata": {
    "colab": {
      "provenance": [],
      "authorship_tag": "ABX9TyORioV9ukK0Y2gNWIbKdlSF",
      "include_colab_link": true
    },
    "kernelspec": {
      "name": "python3",
      "display_name": "Python 3"
    },
    "language_info": {
      "name": "python"
    }
  },
  "cells": [
    {
      "cell_type": "markdown",
      "metadata": {
        "id": "view-in-github",
        "colab_type": "text"
      },
      "source": [
        "<a href=\"https://colab.research.google.com/github/HebaSedik/python/blob/master/python_libraries.ipynb\" target=\"_parent\"><img src=\"https://colab.research.google.com/assets/colab-badge.svg\" alt=\"Open In Colab\"/></a>"
      ]
    },
    {
      "cell_type": "markdown",
      "source": [
        "# ***`Standard Libraries`***"
      ],
      "metadata": {
        "id": "OyvZXgUW7Ro7"
      }
    },
    {
      "cell_type": "markdown",
      "source": [
        "# ***math:***\n",
        "  math   \n",
        "  statistics   \n",
        "  random\n",
        "# **file system:**\n",
        "  os.path   \n",
        "  fileinput   \n",
        "  qzip    \n",
        "  zipfile\n",
        "# ***text processing:***\n",
        "  string   \n",
        "  re   \n",
        "  readline\n",
        "# ***file formats:***\n",
        "  csv   \n",
        "  configparser\n",
        "# ***operating system:***\n",
        "  platform   \n",
        "  os    \n",
        "  io    \n",
        "# ***data types:***\n",
        "  collections    \n",
        "  array    \n",
        "  datetime    \n",
        "  calendar"
      ],
      "metadata": {
        "id": "7FlGdwH55k1q"
      }
    },
    {
      "cell_type": "code",
      "execution_count": 1,
      "metadata": {
        "id": "PdxWOrBv5kFR",
        "colab": {
          "base_uri": "https://localhost:8080/"
        },
        "outputId": "741a0266-1ae3-4135-f37d-21f0ec9d970e"
      },
      "outputs": [
        {
          "output_type": "stream",
          "name": "stdout",
          "text": [
            "3.10.12 (main, Jun 11 2023, 05:26:28) [GCC 11.4.0]\n",
            "['/usr/local/lib/python3.10/dist-packages/ipykernel_launcher.py', '-f', '/root/.local/share/jupyter/runtime/kernel-32e4a284-b4e3-4050-8b92-53731dc77b8e.json']\n",
            "9223372036854775807\n"
          ]
        },
        {
          "output_type": "stream",
          "name": "stderr",
          "text": [
            "warning message"
          ]
        }
      ],
      "source": [
        "import sys\n",
        "print(sys.version)\n",
        "print(sys.argv)\n",
        "print(sys.maxsize)\n",
        "sys.stderr.write(\"warning message\")"
      ]
    },
    {
      "cell_type": "code",
      "source": [
        "import math\n",
        "n=16\n",
        "sqrt=math.sqrt(n)\n",
        "print(\"square root is\",sqrt)\n",
        "pi= math.pi\n",
        "print(\"pi =\", pi)"
      ],
      "metadata": {
        "colab": {
          "base_uri": "https://localhost:8080/"
        },
        "id": "Z4WdjnB1r_UF",
        "outputId": "3291875b-1348-4cd1-dec7-2c4ee7985100"
      },
      "execution_count": 2,
      "outputs": [
        {
          "output_type": "stream",
          "name": "stdout",
          "text": [
            "square root is 4.0\n",
            "pi = 3.141592653589793\n"
          ]
        }
      ]
    },
    {
      "cell_type": "code",
      "source": [
        "import random\n",
        "n= random.random()\n",
        "print(\"random =\", n)\n",
        "num =[1,2,3,4,5,6,7]\n",
        "random.shuffle(num)\n",
        "print(\"shuffled list is\",num)\n",
        "color=['red','green','blue']\n",
        "rand=random.choice(color)\n",
        "print(\"random color is \",rand)"
      ],
      "metadata": {
        "colab": {
          "base_uri": "https://localhost:8080/"
        },
        "id": "j1rfxro-tmmb",
        "outputId": "607f0dda-d573-4a74-9d79-76b04b26c1ef"
      },
      "execution_count": 3,
      "outputs": [
        {
          "output_type": "stream",
          "name": "stdout",
          "text": [
            "random = 0.21212388537396987\n",
            "shuffled list is [2, 5, 4, 3, 6, 1, 7]\n",
            "random color is  blue\n"
          ]
        }
      ]
    },
    {
      "cell_type": "code",
      "source": [
        "import random as rn\n",
        "a = rn.randrange(150)\n",
        "print(a)"
      ],
      "metadata": {
        "colab": {
          "base_uri": "https://localhost:8080/"
        },
        "id": "G5EYY--Y1q2s",
        "outputId": "785a067c-19a5-4f2a-acb4-4aab9b6a3ccc"
      },
      "execution_count": 4,
      "outputs": [
        {
          "output_type": "stream",
          "name": "stdout",
          "text": [
            "101\n"
          ]
        }
      ]
    },
    {
      "cell_type": "code",
      "source": [
        "import re\n",
        "text= \"hi it is good day and it is sunny\"\n",
        "pattern=\"day\"\n",
        "match=re.search(pattern,text)\n",
        "if match:\n",
        "  print(\"pattern found:\", match.group())\n",
        "else:\n",
        "  print(\"not found\")\n",
        "replace=\",\"\n",
        "new=re.sub(pattern,replace,text)\n",
        "print(\"new text is: \",new)"
      ],
      "metadata": {
        "colab": {
          "base_uri": "https://localhost:8080/"
        },
        "id": "nb5awC2Du6wU",
        "outputId": "46c8ac1a-c735-4555-9bf9-18d1e0e26971"
      },
      "execution_count": 5,
      "outputs": [
        {
          "output_type": "stream",
          "name": "stdout",
          "text": [
            "pattern found: day\n",
            "new text is:  hi it is good , and it is sunny\n"
          ]
        }
      ]
    },
    {
      "cell_type": "code",
      "source": [
        "import json\n",
        "data= {\n",
        "    \"name\": \"heba\", \"age\": 22,\"city\": \"cairo\"\n",
        "}\n",
        "json_data=json.dumps(data)\n",
        "print(\"json data:\", json_data)\n",
        "json_str='{\"name\": \"heba\", \"age\": 22,\"city\": \"cairo\"}'\n",
        "decode_data=json.loads(json_str)\n",
        "print(\"decodee data :\", decode_data)"
      ],
      "metadata": {
        "colab": {
          "base_uri": "https://localhost:8080/"
        },
        "id": "DbsDg-WYwvvq",
        "outputId": "a062c3e2-23fa-4d13-e1b7-03aa59fd0e74"
      },
      "execution_count": 6,
      "outputs": [
        {
          "output_type": "stream",
          "name": "stdout",
          "text": [
            "json data: {\"name\": \"heba\", \"age\": 22, \"city\": \"cairo\"}\n",
            "decodee data : {'name': 'heba', 'age': 22, 'city': 'cairo'}\n"
          ]
        }
      ]
    },
    {
      "cell_type": "code",
      "source": [
        "import csv\n",
        "data=[\n",
        "    [\"name\",\"age\",\"city\"],\n",
        "    [\"heba\", 22,\"cairo\"],\n",
        "    [\"ahmed\",25,\"Alex\"],\n",
        "    [\"john\",30,\"new york\"]\n",
        "]\n",
        "with open(\"data.csv\", mode=\"w\",newline=\"\") as file:\n",
        "  writer = csv.writer(file)\n",
        "  writer.writerows(data)\n",
        "with open(\"data.csv\", mode=\"r\") as file:\n",
        "  reader=csv.reader(file)\n",
        "  for row in reader:\n",
        "    print(row)"
      ],
      "metadata": {
        "colab": {
          "base_uri": "https://localhost:8080/"
        },
        "id": "udHmknnFxvKq",
        "outputId": "c22597c0-d68e-4541-d42b-587abb2abfba"
      },
      "execution_count": 7,
      "outputs": [
        {
          "output_type": "stream",
          "name": "stdout",
          "text": [
            "['name', 'age', 'city']\n",
            "['heba', '22', 'cairo']\n",
            "['ahmed', '25', 'Alex']\n",
            "['john', '30', 'new york']\n"
          ]
        }
      ]
    },
    {
      "cell_type": "code",
      "source": [
        "import datetime\n",
        "now = datetime.datetime.now()\n",
        "print(\"current date :\",now)\n",
        "format=now.strftime(\"%Y-%m-%d %H:%M:%S\")\n",
        "print(\"format: \", format)\n",
        "date_time=datetime.datetime(2023,9,5,15,6,3)\n",
        "print(\"specific data:\", date_time)\n",
        "one= datetime.timedelta(days=1)\n",
        "new_date=date_time+one\n",
        "print(\"new :\", new_date)"
      ],
      "metadata": {
        "colab": {
          "base_uri": "https://localhost:8080/"
        },
        "id": "hP6_UuUWzNfC",
        "outputId": "977ab548-9f24-4511-a476-4044a968be5f"
      },
      "execution_count": null,
      "outputs": [
        {
          "output_type": "stream",
          "name": "stdout",
          "text": [
            "current date : 2023-08-15 15:32:16.205002\n",
            "format:  2023-08-15 15:32:16\n",
            "specific data: 2023-09-05 15:06:03\n",
            "new : 2023-09-06 15:06:03\n"
          ]
        }
      ]
    },
    {
      "cell_type": "markdown",
      "source": [
        "# ***External libraries***"
      ],
      "metadata": {
        "id": "EVdfKi1W2olS"
      }
    },
    {
      "cell_type": "code",
      "source": [
        "import numpy as np\n",
        "arr1=np.array([1,2,3,4,5])\n",
        "print(\"array 1D:\" ,arr1)\n",
        "arr2=np.array([[1,2,3],[4,5,6],[7,8,9]])\n",
        "print(\"array 2D:\",arr2)\n",
        "shape=arr2.shape\n",
        "print(\"shape is:\" ,shape)"
      ],
      "metadata": {
        "colab": {
          "base_uri": "https://localhost:8080/"
        },
        "id": "37TUCWEk0O4I",
        "outputId": "b97ae6f9-bb40-48ab-99f5-77f8cdc4f462"
      },
      "execution_count": null,
      "outputs": [
        {
          "output_type": "stream",
          "name": "stdout",
          "text": [
            "array 1D: [1 2 3 4 5]\n",
            "array 2D: [[1 2 3]\n",
            " [4 5 6]\n",
            " [7 8 9]]\n",
            "shape is: (3, 3)\n"
          ]
        }
      ]
    },
    {
      "cell_type": "code",
      "source": [
        "import pandas as pd\n",
        "df = pd.read_csv(\"data.csv\")\n",
        "print(\"dataframe: \")\n",
        "print(df)\n",
        "select_row=df[df[\"age\"] >23]\n",
        "print(\"selected row:\")\n",
        "print(select_row)\n",
        "sorted= df.sort_values(\"name\")\n",
        "print(\"sorted:\")\n",
        "print(sorted)\n",
        "grouped=df.groupby(\"city\")[\"age\"].mean()\n",
        "print(\"group df\")\n",
        "print(grouped)"
      ],
      "metadata": {
        "id": "hrvYW4u039hV",
        "colab": {
          "base_uri": "https://localhost:8080/"
        },
        "outputId": "8c0b64e1-2894-435e-afe5-9e87a9d813e7"
      },
      "execution_count": 10,
      "outputs": [
        {
          "output_type": "stream",
          "name": "stdout",
          "text": [
            "dataframe: \n",
            "    name  age      city\n",
            "0   heba   22     cairo\n",
            "1  ahmed   25      Alex\n",
            "2   john   30  new york\n",
            "selected row:\n",
            "    name  age      city\n",
            "1  ahmed   25      Alex\n",
            "2   john   30  new york\n",
            "sorted:\n",
            "    name  age      city\n",
            "1  ahmed   25      Alex\n",
            "0   heba   22     cairo\n",
            "2   john   30  new york\n",
            "group df\n",
            "city\n",
            "Alex        25.0\n",
            "cairo       22.0\n",
            "new york    30.0\n",
            "Name: age, dtype: float64\n"
          ]
        }
      ]
    },
    {
      "cell_type": "code",
      "source": [
        "import matplotlib.pyplot as plt\n",
        "import numpy as np\n",
        "x=np.arange(0,10,0.1)\n",
        "y=np.sin(x)\n",
        "plt.plot(x,y)\n",
        "plt.xlabel(\"x\")\n",
        "plt.ylabel(\"y=sin(x)\")\n",
        "plt.title(\"sin function\")\n",
        "plt.show()"
      ],
      "metadata": {
        "colab": {
          "base_uri": "https://localhost:8080/",
          "height": 472
        },
        "id": "9TBu4FCqNR9K",
        "outputId": "f682a74b-30a0-4eab-b7be-6886fc949923"
      },
      "execution_count": 11,
      "outputs": [
        {
          "output_type": "display_data",
          "data": {
            "text/plain": [
              "<Figure size 640x480 with 1 Axes>"
            ],
            "image/png": "[encoded data removed]"
          },
          "metadata": {}
        }
      ]
    }
  ]
}