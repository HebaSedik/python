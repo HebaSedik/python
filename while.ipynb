{
  "nbformat": 4,
  "nbformat_minor": 0,
  "metadata": {
    "colab": {
      "provenance": [],
      "authorship_tag": "ABX9TyOzj4IfKM1xcLjITaE5DfdF",
      "include_colab_link": true
    },
    "kernelspec": {
      "name": "python3",
      "display_name": "Python 3"
    },
    "language_info": {
      "name": "python"
    }
  },
  "cells": [
    {
      "cell_type": "markdown",
      "metadata": {
        "id": "view-in-github",
        "colab_type": "text"
      },
      "source": [
        "<a href=\"https://colab.research.google.com/github/HebaSedik/python/blob/master/while.ipynb\" target=\"_parent\"><img src=\"https://colab.research.google.com/assets/colab-badge.svg\" alt=\"Open In Colab\"/></a>"
      ]
    },
    {
      "cell_type": "code",
      "source": [
        "n = int(input(\"input number : \"))\n",
        "while n <= 10 :\n",
        "\tprint(n)\n",
        "\tn = n +1\n",
        "print(\"Done\")\n"
      ],
      "metadata": {
        "colab": {
          "base_uri": "https://localhost:8080/"
        },
        "id": "DPCUZTK_Djk1",
        "outputId": "72d93848-0a22-4c35-c6c4-ca04f2de2d5f"
      },
      "execution_count": 19,
      "outputs": [
        {
          "output_type": "stream",
          "name": "stdout",
          "text": [
            "input number : 6\n",
            "6\n",
            "7\n",
            "8\n",
            "9\n",
            "10\n",
            "Done\n"
          ]
        }
      ]
    },
    {
      "cell_type": "code",
      "source": [
        "while True :\n",
        "\ta = int(input(\"enter number\"))\n",
        "\tif a > 15 :\n",
        "\t\tprint(\"yes\")\n",
        "\t\tbreak\n",
        "\telse :\n",
        "\t\tprint(\"No\")\n",
        "print(\"end\")"
      ],
      "metadata": {
        "colab": {
          "base_uri": "https://localhost:8080/"
        },
        "id": "_aSY9AexD26A",
        "outputId": "fff0861c-a1d9-4373-ec0c-717031340037"
      },
      "execution_count": 20,
      "outputs": [
        {
          "output_type": "stream",
          "name": "stdout",
          "text": [
            "enter number6\n",
            "No\n",
            "enter number20\n",
            "yes\n",
            "end\n"
          ]
        }
      ]
    },
    {
      "cell_type": "code",
      "source": [
        "a = 6\n",
        "while a :\n",
        "\tprint(a)\n",
        "\ta = a-1\n"
      ],
      "metadata": {
        "colab": {
          "base_uri": "https://localhost:8080/"
        },
        "id": "GWFk6k-wELvr",
        "outputId": "a656f2dd-0331-42de-dfc9-43b545b28907"
      },
      "execution_count": 21,
      "outputs": [
        {
          "output_type": "stream",
          "name": "stdout",
          "text": [
            "6\n",
            "5\n",
            "4\n",
            "3\n",
            "2\n",
            "1\n"
          ]
        }
      ]
    },
    {
      "cell_type": "code",
      "source": [],
      "metadata": {
        "id": "08bswAwCENaV"
      },
      "execution_count": null,
      "outputs": []
    }
  ]
}