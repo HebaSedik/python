{
  "nbformat": 4,
  "nbformat_minor": 0,
  "metadata": {
    "colab": {
      "provenance": [],
      "authorship_tag": "ABX9TyNcHNAdcrCf6T8OJLlD+J+p",
      "include_colab_link": true
    },
    "kernelspec": {
      "name": "python3",
      "display_name": "Python 3"
    },
    "language_info": {
      "name": "python"
    }
  },
  "cells": [
    {
      "cell_type": "markdown",
      "metadata": {
        "id": "view-in-github",
        "colab_type": "text"
      },
      "source": [
        "<a href=\"https://colab.research.google.com/github/HebaSedik/python/blob/master/class.ipynb\" target=\"_parent\"><img src=\"https://colab.research.google.com/assets/colab-badge.svg\" alt=\"Open In Colab\"/></a>"
      ]
    },
    {
      "cell_type": "code",
      "execution_count": 1,
      "metadata": {
        "colab": {
          "base_uri": "https://localhost:8080/"
        },
        "id": "Lf13eMaQpT-j",
        "outputId": "bd800f93-ec7c-4b11-c38e-9d9a009b96ce"
      },
      "outputs": [
        {
          "output_type": "stream",
          "name": "stdout",
          "text": [
            "white\n",
            "720\n",
            "6\n"
          ]
        }
      ],
      "source": [
        "class car :\n",
        "    length = 15\n",
        "    width = 8\n",
        "    height = 6\n",
        "    color = 'white'\n",
        "    volume = length * width * height\n",
        "print(car.color)\n",
        "print(car.volume)\n",
        "volvo = car\n",
        "print(volvo.height)"
      ]
    },
    {
      "cell_type": "code",
      "source": [
        "class car() :\n",
        "    color = 'blue'\n",
        "volvo = car\n",
        "nissan = car\n",
        "volvo.color = 'white'\n",
        "nissan.color = 'green'\n",
        "print(volvo.color)\n",
        "print(nissan.color)"
      ],
      "metadata": {
        "colab": {
          "base_uri": "https://localhost:8080/"
        },
        "id": "a2S7n8SztlQA",
        "outputId": "badc268a-a553-4033-ce7f-ff1632a0048c"
      },
      "execution_count": 3,
      "outputs": [
        {
          "output_type": "stream",
          "name": "stdout",
          "text": [
            "green\n",
            "green\n"
          ]
        }
      ]
    },
    {
      "cell_type": "code",
      "source": [
        "class car() :\n",
        "    def __init__(self, color):\n",
        "        self.color = color\n",
        "volvo = car('white')\n",
        "nissan = car('green')\n",
        "print(volvo.color)\n",
        "print(nissan.color)"
      ],
      "metadata": {
        "colab": {
          "base_uri": "https://localhost:8080/"
        },
        "id": "nbHcIIrLattx",
        "outputId": "028072dc-2a78-44ef-d7bc-92cc314b6e88"
      },
      "execution_count": 5,
      "outputs": [
        {
          "output_type": "stream",
          "name": "stdout",
          "text": [
            "white\n",
            "green\n"
          ]
        }
      ]
    },
    {
      "cell_type": "code",
      "source": [
        "class calc :\n",
        "    def __init__(self,p2,p3) :\n",
        "        self.power2 = p2**2\n",
        "        self.power3 = p3**3\n",
        "a = calc(5,3)\n",
        "print(a.power2)\n",
        "print(a.power3)"
      ],
      "metadata": {
        "colab": {
          "base_uri": "https://localhost:8080/"
        },
        "id": "cDR7s2kubA7y",
        "outputId": "14e2d688-70d3-4e05-a852-9164437791b0"
      },
      "execution_count": 6,
      "outputs": [
        {
          "output_type": "stream",
          "name": "stdout",
          "text": [
            "25\n",
            "27\n"
          ]
        }
      ]
    },
    {
      "cell_type": "code",
      "source": [
        "class d :\n",
        "    def __init__(self,p2 = 5 ,p3 = 3) :\n",
        "        self.power2 = p2**2\n",
        "        self.power3 = p3**3\n",
        "a = d()\n",
        "print(a.power2)\n",
        "print(a.power3)"
      ],
      "metadata": {
        "colab": {
          "base_uri": "https://localhost:8080/"
        },
        "id": "DrjMj3_OeVW_",
        "outputId": "d64b17d1-e13c-4ed3-f89d-557941219bcd"
      },
      "execution_count": 7,
      "outputs": [
        {
          "output_type": "stream",
          "name": "stdout",
          "text": [
            "25\n",
            "27\n"
          ]
        }
      ]
    },
    {
      "cell_type": "code",
      "source": [
        "class d :\n",
        "    def __init__(self,p2 = 10 ,p3 = 100) :\n",
        "        self.power2 = p2**2\n",
        "        self.power3 = p3**3\n",
        "a = d(p2=5,p3=3)\n",
        "print(a.power2)\n",
        "print(a.power3)"
      ],
      "metadata": {
        "colab": {
          "base_uri": "https://localhost:8080/"
        },
        "id": "1nBFCkKQec7v",
        "outputId": "fe4fa7e8-acb5-436c-8f01-e181f5de662b"
      },
      "execution_count": 8,
      "outputs": [
        {
          "output_type": "stream",
          "name": "stdout",
          "text": [
            "25\n",
            "27\n"
          ]
        }
      ]
    },
    {
      "cell_type": "code",
      "source": [
        "class d :\n",
        "    def __init__(self,nn,p2 = 10 ,p3 = 100):\n",
        "        self.power2 = p2**2\n",
        "        self.power3 = p3**3\n",
        "        self.roots = nn\n",
        "    def root(self ) :\n",
        "        print (self.roots**0.5)\n",
        "a = d(2500)\n",
        "a.root()"
      ],
      "metadata": {
        "colab": {
          "base_uri": "https://localhost:8080/"
        },
        "id": "_xhzV6APfJf9",
        "outputId": "60f53f6b-5bc8-47ef-88c2-dd1d4259b287"
      },
      "execution_count": 9,
      "outputs": [
        {
          "output_type": "stream",
          "name": "stdout",
          "text": [
            "50.0\n"
          ]
        }
      ]
    },
    {
      "cell_type": "code",
      "source": [
        "class Account:\n",
        "    def __init__(self, name, account_number, initial_amount):\n",
        "        self.name = name\n",
        "        self.no = account_number\n",
        "        self.balance = initial_amount\n",
        "    def deposit(self, amount):\n",
        "        self.balance += amount\n",
        "    def withdraw(self, amount):\n",
        "        self.balance -= amount\n",
        "    def show(self):\n",
        "        s = '%s, %s, balance: %s' % (self.name, self.no, self.balance)\n",
        "        print (s)\n",
        "a1 = Account('John Olsson', '19371554951', 20000)\n",
        "a2 = Account('Liz Olsson', '19371564761', 50000)\n",
        "print(\"a1 balance :  \" , a1.balance )\n",
        "print(\"a2 no      :  \" ,   a2.no)\n",
        "a1.deposit(1000)\n",
        "a1.withdraw(4000)\n",
        "a2.withdraw(10500)\n",
        "a1.withdraw(3500)\n",
        "print (\"a1's balance:\", a1.balance)\n",
        "print (\"a2's balance:\", a2.balance)\n",
        "a1.show()\n",
        "a2.show()"
      ],
      "metadata": {
        "colab": {
          "base_uri": "https://localhost:8080/"
        },
        "id": "QslsUVZRfRjT",
        "outputId": "716a63e2-2155-4261-e388-9ed7722efbc0"
      },
      "execution_count": 10,
      "outputs": [
        {
          "output_type": "stream",
          "name": "stdout",
          "text": [
            "a1 balance :   20000\n",
            "a2 no      :   19371564761\n",
            "a1's balance: 13500\n",
            "a2's balance: 39500\n",
            "John Olsson, 19371554951, balance: 13500\n",
            "Liz Olsson, 19371564761, balance: 39500\n"
          ]
        }
      ]
    },
    {
      "cell_type": "code",
      "source": [
        "class Person:\n",
        "    def __init__(self, name,mobile_phone=None, office_phone=None,private_phone=None, email=None):\n",
        "        self.name = name\n",
        "        self.mobile = mobile_phone\n",
        "        self.office = office_phone\n",
        "        self.private = private_phone\n",
        "        self.email = email\n",
        "    def add_mobile_phone(self, number):\n",
        "        self.mobile = number\n",
        "    def add_office_phone(self, number):\n",
        "        self.office = number\n",
        "    def add_private_phone(self, number):\n",
        "        self.private = number\n",
        "    def add_email(self, address):\n",
        "        self.email = address\n",
        "    def dump(self):\n",
        "        s = self.name + '\\n'\n",
        "        if self.mobile is not None:\n",
        "            s += 'mobile phone: %s\\n' % self.mobile\n",
        "        if self.office is not None:\n",
        "            s += 'office phone: %s\\n' % self.office\n",
        "        if self.private is not None:\n",
        "            s += 'private phone: %s\\n' % self.private\n",
        "        if self.email is not None:\n",
        "            s += 'email address: %s\\n' % self.email\n",
        "        print (s)\n",
        "p1 = Person('Hans Hanson',office_phone='767828283', email='h@hanshanson.com')\n",
        "p2 = Person('Ole Olsen', office_phone='767828292')\n",
        "p2.add_email('olsen@somemail.net')\n",
        "phone_book = [p1, p2]\n",
        "for person in phone_book:\n",
        "    person.dump()"
      ],
      "metadata": {
        "colab": {
          "base_uri": "https://localhost:8080/"
        },
        "id": "3l-_y9o4hWQs",
        "outputId": "f274def8-9273-40cb-ba7c-fb4110221bdc"
      },
      "execution_count": 11,
      "outputs": [
        {
          "output_type": "stream",
          "name": "stdout",
          "text": [
            "Hans Hanson\n",
            "office phone: 767828283\n",
            "email address: h@hanshanson.com\n",
            "\n",
            "Ole Olsen\n",
            "office phone: 767828292\n",
            "email address: olsen@somemail.net\n",
            "\n"
          ]
        }
      ]
    },
    {
      "cell_type": "code",
      "source": [],
      "metadata": {
        "id": "eoki-ypNhenw"
      },
      "execution_count": null,
      "outputs": []
    }
  ]
}