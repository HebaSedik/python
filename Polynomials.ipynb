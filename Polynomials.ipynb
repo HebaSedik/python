{
  "nbformat": 4,
  "nbformat_minor": 0,
  "metadata": {
    "colab": {
      "provenance": [],
      "gpuType": "T4",
      "cell_execution_strategy": "setup",
      "authorship_tag": "ABX9TyPID95ikJ24RQfmp8dxpPE+",
      "include_colab_link": true
    },
    "kernelspec": {
      "name": "python3",
      "display_name": "Python 3"
    },
    "language_info": {
      "name": "python"
    },
    "accelerator": "GPU"
  },
  "cells": [
    {
      "cell_type": "markdown",
      "metadata": {
        "id": "view-in-github",
        "colab_type": "text"
      },
      "source": [
        "<a href=\"https://colab.research.google.com/github/HebaSedik/python/blob/master/Polynomials.ipynb\" target=\"_parent\"><img src=\"https://colab.research.google.com/assets/colab-badge.svg\" alt=\"Open In Colab\"/></a>"
      ]
    },
    {
      "cell_type": "code",
      "execution_count": 1,
      "metadata": {
        "colab": {
          "base_uri": "https://localhost:8080/"
        },
        "id": "6G2xsYhWtcb9",
        "outputId": "c59c4a4b-2997-4365-9d79-dd516449c7ae"
      },
      "outputs": [
        {
          "output_type": "stream",
          "name": "stdout",
          "text": [
            "5.500000000000001 - 4.500000000000003·x¹\n"
          ]
        }
      ],
      "source": [
        "import numpy as np\n",
        "Polynomial = np.polynomial.Polynomial\n",
        "X= np.array([0,20,40,60,80,100,120,140,160,180])\n",
        "Y= np.array([10,9,8,7,6,5,4,3,2,1])\n",
        "points,stats = Polynomial.fit(X,Y,1,full=True)\n",
        "print(points)"
      ]
    },
    {
      "cell_type": "code",
      "source": [
        "from numpy import *\n",
        "a = poly1d((-7))\n",
        "b = poly1d((-7,2))\n",
        "c = poly1d((-7,2,1))\n",
        "d = poly1d((-7,2,1,3))\n",
        "e = poly1d((-7,2,1,3,6))\n",
        "print(\"a= \",a)\n",
        "print(\"b= \",b)\n",
        "print(\"c= \",c)\n",
        "print(\"d= \",d)\n",
        "print(\"e= \",e)"
      ],
      "metadata": {
        "colab": {
          "base_uri": "https://localhost:8080/"
        },
        "id": "w62yI76Mtqxb",
        "outputId": "f8bbbd77-b1c1-4df0-842a-42829eac078f"
      },
      "execution_count": 2,
      "outputs": [
        {
          "output_type": "stream",
          "name": "stdout",
          "text": [
            "a=   \n",
            "-7\n",
            "b=   \n",
            "-7 x + 2\n",
            "c=      2\n",
            "-7 x + 2 x + 1\n",
            "d=      3     2\n",
            "-7 x + 2 x + 1 x + 3\n",
            "e=      4     3     2\n",
            "-7 x + 2 x + 1 x + 3 x + 6\n"
          ]
        }
      ]
    },
    {
      "cell_type": "code",
      "source": [
        "from numpy import *\n",
        "a = poly1d((-7,2,1,3,6))\n",
        "b=a(5)\n",
        "c=a(0)\n",
        "d=a(-15)\n",
        "print(\"a= \",a)\n",
        "print(\"b= \",b)\n",
        "print(\"c= \",c)\n",
        "print(\"d= \",d)"
      ],
      "metadata": {
        "colab": {
          "base_uri": "https://localhost:8080/"
        },
        "id": "iH4H6hXrt8wR",
        "outputId": "e843ec82-c97b-4509-8804-512c7ca731a3"
      },
      "execution_count": 3,
      "outputs": [
        {
          "output_type": "stream",
          "name": "stdout",
          "text": [
            "a=      4     3     2\n",
            "-7 x + 2 x + 1 x + 3 x + 6\n",
            "b=  -4079\n",
            "c=  6\n",
            "d=  -360939\n"
          ]
        }
      ]
    },
    {
      "cell_type": "code",
      "source": [
        "from numpy import *\n",
        "a = polyval((1,2),2)\n",
        "b = polyval((1,2,3),7)\n",
        "c = polyval((1,2,3,5),-3)\n",
        "d = polyval((1,2,3,5,-6),12.6)\n",
        "print(\"a= \",a)\n",
        "print(\"b= \",b)\n",
        "print(\"c= \",c)\n",
        "print(\"d= \",d)"
      ],
      "metadata": {
        "colab": {
          "base_uri": "https://localhost:8080/"
        },
        "id": "-8qOfv73uLWg",
        "outputId": "8eb032b0-5810-40d5-833a-c0fdb827caca"
      },
      "execution_count": 4,
      "outputs": [
        {
          "output_type": "stream",
          "name": "stdout",
          "text": [
            "a=  4\n",
            "b=  66\n",
            "c=  -13\n",
            "d=  29738.769599999992\n"
          ]
        }
      ]
    },
    {
      "cell_type": "code",
      "source": [
        "from numpy import *\n",
        "a =polyder(poly1d((1,2,3)))\n",
        "b =polyder(poly1d((1,2,3)),2)\n",
        "c =polyder(poly1d((1,2,3)),3)\n",
        "d =polyder(poly1d((1,2,3,5,12)))\n",
        "e =polyder(poly1d((1,2,3,5,12)),3)\n",
        "print(\"a= \",a)\n",
        "print(\"b= \",b)\n",
        "print(\"c= \",c)\n",
        "print(\"d= \",d)\n",
        "print(\"e= \",e)"
      ],
      "metadata": {
        "colab": {
          "base_uri": "https://localhost:8080/"
        },
        "id": "HJLG8l8DuQiZ",
        "outputId": "e4ff8310-5072-4af5-e01d-7463f1b77661"
      },
      "execution_count": 5,
      "outputs": [
        {
          "output_type": "stream",
          "name": "stdout",
          "text": [
            "a=   \n",
            "2 x + 2\n",
            "b=   \n",
            "2\n",
            "c=   \n",
            "0\n",
            "d=     3     2\n",
            "4 x + 6 x + 6 x + 5\n",
            "e=   \n",
            "24 x + 12\n"
          ]
        }
      ]
    },
    {
      "cell_type": "code",
      "source": [
        "from numpy import *\n",
        "a =polyder(poly1d((1,2,3)))\n",
        "b =polyder(poly1d((1,2,3)),2)\n",
        "c =polyder(poly1d((1,2,3)),3)\n",
        "d =polyder(poly1d((1,2,3,5,12)))\n",
        "e =polyder(poly1d((1,2,3,5,12)),3)\n",
        "print(\"a= \",a)\n",
        "print(a(2))\n",
        "print(\"b= \",b)\n",
        "print(b(0))\n",
        "print(\"c= \",c)\n",
        "print(c(3))\n",
        "print(\"d= \",d)\n",
        "print(d(-1))\n",
        "print(\"e= \",e)\n",
        "print(e(5))"
      ],
      "metadata": {
        "colab": {
          "base_uri": "https://localhost:8080/"
        },
        "id": "PY7hCZuLubGV",
        "outputId": "ecb0199b-664a-4c8d-ad34-977d836c13f1"
      },
      "execution_count": 7,
      "outputs": [
        {
          "output_type": "stream",
          "name": "stdout",
          "text": [
            "a=   \n",
            "2 x + 2\n",
            "6\n",
            "b=   \n",
            "2\n",
            "2\n",
            "c=   \n",
            "0\n",
            "0\n",
            "d=     3     2\n",
            "4 x + 6 x + 6 x + 5\n",
            "1\n",
            "e=   \n",
            "24 x + 12\n",
            "132\n"
          ]
        }
      ]
    },
    {
      "cell_type": "code",
      "source": [
        "from numpy import *\n",
        "a =polyint(poly1d((1,2,3)))\n",
        "b =polyint(poly1d((1,2,3)),2)\n",
        "c =polyint(poly1d((1,2,3)),3)\n",
        "d =polyint(poly1d((1,2,3,5,12)))\n",
        "e =polyint(poly1d((1,2,3,5,12)),3)\n",
        "print(\"a= \",a)\n",
        "print(\"b= \",b)\n",
        "print(\"c= \",c)\n",
        "print(\"d= \",d)\n",
        "print(\"e= \",e)"
      ],
      "metadata": {
        "colab": {
          "base_uri": "https://localhost:8080/"
        },
        "id": "MsdwVT6PutQq",
        "outputId": "38b346cd-62dc-4c90-83bc-fc85a01b12a3"
      },
      "execution_count": 8,
      "outputs": [
        {
          "output_type": "stream",
          "name": "stdout",
          "text": [
            "a=          3     2\n",
            "0.3333 x + 1 x + 3 x\n",
            "b=           4          3       2\n",
            "0.08333 x + 0.3333 x + 1.5 x\n",
            "c=           5           4       3\n",
            "0.01667 x + 0.08333 x + 0.5 x\n",
            "d=       5       4     3       2\n",
            "0.2 x + 0.5 x + 1 x + 2.5 x + 12 x\n",
            "e=            7           6        5          4     3\n",
            "0.004762 x + 0.01667 x + 0.05 x + 0.2083 x + 2 x\n"
          ]
        }
      ]
    },
    {
      "cell_type": "code",
      "source": [
        "from numpy import *\n",
        "a =polyint(poly1d((1,2,3)))\n",
        "b =polyint(poly1d((1,2,3)),2)\n",
        "c =polyint(poly1d((1,2,3)),3)\n",
        "d =polyint(poly1d((1,2,3,5,12)))\n",
        "e =polyint(poly1d((1,2,3,5,12)),3)\n",
        "print(\"a= \",a)\n",
        "print(a(2))\n",
        "print(\"b= \",b)\n",
        "print(b(0))\n",
        "print(\"c= \",c)\n",
        "print(c(3))\n",
        "print(\"d= \",d)\n",
        "print(d(-1))\n",
        "print(\"e= \",e)\n",
        "print(e(5))"
      ],
      "metadata": {
        "colab": {
          "base_uri": "https://localhost:8080/"
        },
        "id": "IFZfaQTKu078",
        "outputId": "89b8e631-0660-49c7-ae08-3abcb257caf2"
      },
      "execution_count": 9,
      "outputs": [
        {
          "output_type": "stream",
          "name": "stdout",
          "text": [
            "a=          3     2\n",
            "0.3333 x + 1 x + 3 x\n",
            "12.666666666666666\n",
            "b=           4          3       2\n",
            "0.08333 x + 0.3333 x + 1.5 x\n",
            "0.0\n",
            "c=           5           4       3\n",
            "0.01667 x + 0.08333 x + 0.5 x\n",
            "24.300000000000004\n",
            "d=       5       4     3       2\n",
            "0.2 x + 0.5 x + 1 x + 2.5 x + 12 x\n",
            "-10.2\n",
            "e=            7           6        5          4     3\n",
            "0.004762 x + 0.01667 x + 0.05 x + 0.2083 x + 2 x\n",
            "1168.8988095238094\n"
          ]
        }
      ]
    },
    {
      "cell_type": "code",
      "source": [
        "from numpy import *\n",
        "a =roots(poly1d((1,2)))\n",
        "b =roots(poly1d((1,2,3)))\n",
        "c =roots(poly1d((1,2,3,5)))\n",
        "d =roots(poly1d((1,2,3,5,12)))\n",
        "e =roots(poly1d((1,2,3,5,12,22)))\n",
        "print(\"a= \",a)\n",
        "print(\"b= \",b)\n",
        "print(\"c= \",c)\n",
        "print(\"d= \",d)\n",
        "print(\"e= \",e)"
      ],
      "metadata": {
        "colab": {
          "base_uri": "https://localhost:8080/"
        },
        "id": "hqMRa9RvvJbr",
        "outputId": "5bea9f72-6fd1-4fa7-fd6b-6ab902dfac5c"
      },
      "execution_count": 10,
      "outputs": [
        {
          "output_type": "stream",
          "name": "stdout",
          "text": [
            "a=  [-2.]\n",
            "b=  [-1.+1.41421356j -1.-1.41421356j]\n",
            "c=  [-1.84373428+0.j         -0.07813286+1.64492638j -0.07813286-1.64492638j]\n",
            "d=  [-1.61635728+1.15083694j -1.61635728-1.15083694j  0.61635728+1.63342631j\n",
            "  0.61635728-1.63342631j]\n",
            "e=  [ 0.98732723+1.53502015j  0.98732723-1.53502015j -1.06743101+1.56536107j\n",
            " -1.06743101-1.56536107j -1.83979245+0.j        ]\n"
          ]
        }
      ]
    },
    {
      "cell_type": "code",
      "source": [
        "from numpy import *\n",
        "x = array([3,6,2,5,4])\n",
        "y = array([2,3,-9,6,2.5])\n",
        "z = polyfit(x, y, 2)\n",
        "print(\"x= \",x)\n",
        "print(\"y= \",y)\n",
        "print(\"z= \",z)"
      ],
      "metadata": {
        "colab": {
          "base_uri": "https://localhost:8080/"
        },
        "id": "YXEhHzvnvSKF",
        "outputId": "1da501de-dd7d-4039-d0a4-982c33d880d3"
      },
      "execution_count": 11,
      "outputs": [
        {
          "output_type": "stream",
          "name": "stdout",
          "text": [
            "x=  [3 6 2 5 4]\n",
            "y=  [ 2.   3.  -9.   6.   2.5]\n",
            "z=  [ -1.78571429  17.08571429 -35.3       ]\n"
          ]
        }
      ]
    }
  ]
}