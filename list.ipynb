{
  "nbformat": 4,
  "nbformat_minor": 0,
  "metadata": {
    "colab": {
      "provenance": [],
      "authorship_tag": "ABX9TyONst/9IgTZ6iSEfcmD1vxQ",
      "include_colab_link": true
    },
    "kernelspec": {
      "name": "python3",
      "display_name": "Python 3"
    },
    "language_info": {
      "name": "python"
    }
  },
  "cells": [
    {
      "cell_type": "markdown",
      "metadata": {
        "id": "view-in-github",
        "colab_type": "text"
      },
      "source": [
        "<a href=\"https://colab.research.google.com/github/HebaSedik/python/blob/master/list.ipynb\" target=\"_parent\"><img src=\"https://colab.research.google.com/assets/colab-badge.svg\" alt=\"Open In Colab\"/></a>"
      ]
    },
    {
      "cell_type": "code",
      "execution_count": 5,
      "metadata": {
        "colab": {
          "base_uri": "https://localhost:8080/"
        },
        "id": "wFfBq13z9iK1",
        "outputId": "474b38c1-af5d-4e6a-c704-3f595fe48ce4"
      },
      "outputs": [
        {
          "output_type": "stream",
          "name": "stdout",
          "text": [
            "[1, 2, 3, 4, 5]\n"
          ]
        }
      ],
      "source": [
        "s=[1,2,3,4,5]\n",
        "print(s)"
      ]
    },
    {
      "cell_type": "code",
      "source": [
        "s=['heba',2,3,2.6,2+4j]\n",
        "print(s)\n",
        "print(s[3])\n",
        "print(s[2:4])"
      ],
      "metadata": {
        "colab": {
          "base_uri": "https://localhost:8080/"
        },
        "id": "BQsMsewH9mWp",
        "outputId": "2b658e7b-262d-4676-d1e7-e11f2c460540"
      },
      "execution_count": 9,
      "outputs": [
        {
          "output_type": "stream",
          "name": "stdout",
          "text": [
            "['heba', 2, 3, 2.6, (2+4j)]\n",
            "2.6\n",
            "[3, 2.6]\n"
          ]
        }
      ]
    },
    {
      "cell_type": "code",
      "source": [
        "s=[1,2,[3,4,5]]\n",
        "print(s)"
      ],
      "metadata": {
        "colab": {
          "base_uri": "https://localhost:8080/"
        },
        "id": "9rROahfj9tGV",
        "outputId": "ad0c3d9b-9166-4f80-baf9-a635ee32a786"
      },
      "execution_count": 7,
      "outputs": [
        {
          "output_type": "stream",
          "name": "stdout",
          "text": [
            "[1, 2, [3, 4, 5]]\n"
          ]
        }
      ]
    },
    {
      "cell_type": "code",
      "source": [
        "x= list(\"heba\")\n",
        "print(x)"
      ],
      "metadata": {
        "colab": {
          "base_uri": "https://localhost:8080/"
        },
        "id": "_6IjVfau9wIN",
        "outputId": "51c7555a-1eee-4de2-837d-4bf597681a94"
      },
      "execution_count": 4,
      "outputs": [
        {
          "output_type": "stream",
          "name": "stdout",
          "text": [
            "['h', 'e', 'b', 'a']\n"
          ]
        }
      ]
    },
    {
      "cell_type": "code",
      "source": [
        "a = ['a', 'b', 'c']\n",
        "b = [1, 2, 3]\n",
        "x = [a, b]\n",
        "print(x)\n",
        "print(x[1][2])"
      ],
      "metadata": {
        "colab": {
          "base_uri": "https://localhost:8080/"
        },
        "id": "zIhwf0Zf92yx",
        "outputId": "d78a1a4c-72b6-4e03-b42d-f73a7292fb11"
      },
      "execution_count": 12,
      "outputs": [
        {
          "output_type": "stream",
          "name": "stdout",
          "text": [
            "[['a', 'b', 'c'], [1, 2, 3]]\n",
            "3\n"
          ]
        }
      ]
    },
    {
      "cell_type": "code",
      "source": [
        "x=[1,2,3,4,5,6,7,8]\n",
        "print(\"x=\",x)\n",
        "print(x*2)\n",
        "print(\"len of x =\",len(x))\n",
        "print(\"sum = \", sum(x))\n",
        "print(\"max is \", max(x))\n",
        "print(\"min is\", min(x))"
      ],
      "metadata": {
        "colab": {
          "base_uri": "https://localhost:8080/"
        },
        "id": "egfcycfP-Ru-",
        "outputId": "ba2f0fe8-9b2a-47eb-a4b7-dd4ae2f1cd8e"
      },
      "execution_count": 23,
      "outputs": [
        {
          "output_type": "stream",
          "name": "stdout",
          "text": [
            "x= [1, 2, 3, 4, 5, 6, 7, 8]\n",
            "[1, 2, 3, 4, 5, 6, 7, 8, 1, 2, 3, 4, 5, 6, 7, 8]\n",
            "len of x = 8\n",
            "sum =  36\n",
            "max is  8\n",
            "min is 1\n"
          ]
        }
      ]
    },
    {
      "cell_type": "code",
      "source": [
        "x=[6,8,9,4,2,3,5,7,1,0,6,8]\n",
        "print(sorted(x))\n",
        "print(sorted(x, reverse=True))\n",
        "print(4 in x)\n",
        "y = ['a','c','b']\n",
        "x.extend(y)\n",
        "print(x)\n",
        "x.count(6)"
      ],
      "metadata": {
        "colab": {
          "base_uri": "https://localhost:8080/"
        },
        "id": "tGXIkn5Q-pQO",
        "outputId": "677cf446-09ae-448c-c462-b7f490f938f9"
      },
      "execution_count": 32,
      "outputs": [
        {
          "output_type": "stream",
          "name": "stdout",
          "text": [
            "[0, 1, 2, 3, 4, 5, 6, 6, 7, 8, 8, 9]\n",
            "[9, 8, 8, 7, 6, 6, 5, 4, 3, 2, 1, 0]\n",
            "True\n",
            "[6, 8, 9, 4, 2, 3, 5, 7, 1, 0, 6, 8, 'a', 'c', 'b']\n"
          ]
        },
        {
          "output_type": "execute_result",
          "data": {
            "text/plain": [
              "2"
            ]
          },
          "metadata": {},
          "execution_count": 32
        }
      ]
    },
    {
      "cell_type": "code",
      "source": [
        "a=list(range(15))\n",
        "print(a)\n"
      ],
      "metadata": {
        "colab": {
          "base_uri": "https://localhost:8080/"
        },
        "id": "8ISYlkQr_0Gt",
        "outputId": "25c9e0e2-9887-4ad0-96d8-df0c3fac796d"
      },
      "execution_count": 35,
      "outputs": [
        {
          "output_type": "stream",
          "name": "stdout",
          "text": [
            "[0, 1, 2, 3, 4, 5, 6, 7, 8, 9, 10, 11, 12, 13, 14]\n"
          ]
        }
      ]
    },
    {
      "cell_type": "code",
      "source": [
        "N = list(range(2,20,3))\n",
        "print(N)"
      ],
      "metadata": {
        "colab": {
          "base_uri": "https://localhost:8080/"
        },
        "id": "hG9yMJIuA00E",
        "outputId": "b56eccc0-08d0-4d64-f1e3-ba0b24e5c59f"
      },
      "execution_count": 37,
      "outputs": [
        {
          "output_type": "stream",
          "name": "stdout",
          "text": [
            "[2, 5, 8, 11, 14, 17]\n"
          ]
        }
      ]
    },
    {
      "cell_type": "code",
      "source": [
        "y = [ x**3 for x in range(12)]\n",
        "print(y)"
      ],
      "metadata": {
        "colab": {
          "base_uri": "https://localhost:8080/"
        },
        "id": "_LFo1rK6BBMR",
        "outputId": "84ef8955-1491-4c43-b67f-c38f45878e29"
      },
      "execution_count": 40,
      "outputs": [
        {
          "output_type": "stream",
          "name": "stdout",
          "text": [
            "[0, 1, 8, 27, 64, 125, 216, 343, 512, 729, 1000, 1331]\n"
          ]
        }
      ]
    },
    {
      "cell_type": "code",
      "source": [
        "I = iter([2, 4, 6, 8, 10])\n",
        "print(next(I))\n",
        "print(next(I))\n",
        "print(next(I))"
      ],
      "metadata": {
        "colab": {
          "base_uri": "https://localhost:8080/"
        },
        "id": "dblfdaR2BJI4",
        "outputId": "6031fd04-4143-48da-955c-ac3e5391bd8f"
      },
      "execution_count": 42,
      "outputs": [
        {
          "output_type": "stream",
          "name": "stdout",
          "text": [
            "2\n",
            "4\n",
            "6\n"
          ]
        }
      ]
    },
    {
      "cell_type": "code",
      "source": [
        "I = iter(range(20))"
      ],
      "metadata": {
        "id": "2DPDi5ehBVzl"
      },
      "execution_count": 44,
      "outputs": []
    },
    {
      "cell_type": "code",
      "source": [
        "list = ['apple', 'banana', 'grapes', 'pear']\n",
        "for x, value in enumerate(list, 1):\n",
        "    print(x, value)\n"
      ],
      "metadata": {
        "colab": {
          "base_uri": "https://localhost:8080/"
        },
        "id": "w9cAY14SBc22",
        "outputId": "81bb9434-8b57-4e0d-822b-e4a665f870bd"
      },
      "execution_count": 45,
      "outputs": [
        {
          "output_type": "stream",
          "name": "stdout",
          "text": [
            "1 apple\n",
            "2 banana\n",
            "3 grapes\n",
            "4 pear\n"
          ]
        }
      ]
    },
    {
      "cell_type": "code",
      "source": [
        "list1 = ['a1', 'a2', 'a3']\n",
        "list2 = ['b1', 'b2', 'b3']\n",
        "for a, b in zip(list1, list2):\n",
        "    print (a, b)\n"
      ],
      "metadata": {
        "colab": {
          "base_uri": "https://localhost:8080/"
        },
        "id": "ABXzFUsrBr19",
        "outputId": "690c3c52-48cb-4706-ddbd-69313574028d"
      },
      "execution_count": 46,
      "outputs": [
        {
          "output_type": "stream",
          "name": "stdout",
          "text": [
            "a1 b1\n",
            "a2 b2\n",
            "a3 b3\n"
          ]
        }
      ]
    },
    {
      "cell_type": "code",
      "source": [
        "from operator import itemgetter\n",
        "student_tuples = [('heba', 'A', 15),('jane', 'B', 12),('dave', 'B', 10),]\n",
        "print(student_tuples)"
      ],
      "metadata": {
        "colab": {
          "base_uri": "https://localhost:8080/"
        },
        "id": "ghm70T0fB5Ut",
        "outputId": "9620dd04-6e4b-4f5f-eede-cfa297f1d5fd"
      },
      "execution_count": 48,
      "outputs": [
        {
          "output_type": "stream",
          "name": "stdout",
          "text": [
            "[('heba', 'A', 15), ('jane', 'B', 12), ('dave', 'B', 10)]\n"
          ]
        }
      ]
    },
    {
      "cell_type": "code",
      "source": [],
      "metadata": {
        "id": "TRAh2H65CAnT"
      },
      "execution_count": null,
      "outputs": []
    }
  ]
}