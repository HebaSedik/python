{
  "nbformat": 4,
  "nbformat_minor": 0,
  "metadata": {
    "colab": {
      "provenance": [],
      "authorship_tag": "ABX9TyPidpr1coqbUdunbGUiUNxp",
      "include_colab_link": true
    },
    "kernelspec": {
      "name": "python3",
      "display_name": "Python 3"
    },
    "language_info": {
      "name": "python"
    }
  },
  "cells": [
    {
      "cell_type": "markdown",
      "metadata": {
        "id": "view-in-github",
        "colab_type": "text"
      },
      "source": [
        "<a href=\"https://colab.research.google.com/github/HebaSedik/python/blob/master/function1.ipynb\" target=\"_parent\"><img src=\"https://colab.research.google.com/assets/colab-badge.svg\" alt=\"Open In Colab\"/></a>"
      ]
    },
    {
      "cell_type": "code",
      "source": [
        "def stars() :\n",
        "    for i in range(5) :\n",
        "        print ('**')\n",
        "stars()"
      ],
      "metadata": {
        "colab": {
          "base_uri": "https://localhost:8080/"
        },
        "id": "kYPxfqY5Fo9J",
        "outputId": "ef067d45-848e-4d4b-b776-01fa7ca51dd6"
      },
      "execution_count": null,
      "outputs": [
        {
          "output_type": "stream",
          "name": "stdout",
          "text": [
            "**\n",
            "**\n",
            "**\n",
            "**\n",
            "**\n"
          ]
        }
      ]
    },
    {
      "cell_type": "code",
      "source": [
        "def add(a,b):\n",
        "  return a+b\n",
        "print(\"add is\",add(5,6))\n",
        "def sub(a,b):\n",
        "  return a-b\n",
        "print(\"sub is\",sub(10,5))"
      ],
      "metadata": {
        "colab": {
          "base_uri": "https://localhost:8080/"
        },
        "id": "Zp6-IinilaOZ",
        "outputId": "dc65d599-b9be-4193-a81d-0917388cd82b"
      },
      "execution_count": null,
      "outputs": [
        {
          "output_type": "stream",
          "name": "stdout",
          "text": [
            "add is 11\n",
            "sub is 5\n"
          ]
        }
      ]
    },
    {
      "cell_type": "code",
      "source": [
        "def great(name, message):\n",
        "  print(f\"{message}, {name}!\")\n",
        "great(\"heba\", \"hello\")"
      ],
      "metadata": {
        "colab": {
          "base_uri": "https://localhost:8080/"
        },
        "id": "pV3T5i-Smwu2",
        "outputId": "aaec7aa1-551c-498d-8f43-6f296a143553"
      },
      "execution_count": null,
      "outputs": [
        {
          "output_type": "stream",
          "name": "stdout",
          "text": [
            "hello, heba!\n"
          ]
        }
      ]
    },
    {
      "cell_type": "code",
      "source": [
        "sum = lambda x,y: x+y\n",
        "print(sum(6,7))"
      ],
      "metadata": {
        "colab": {
          "base_uri": "https://localhost:8080/"
        },
        "id": "M9Ei-L0rtpw-",
        "outputId": "71f3137a-affc-4bb3-de62-bcd67baf1582"
      },
      "execution_count": null,
      "outputs": [
        {
          "output_type": "stream",
          "name": "stdout",
          "text": [
            "13\n"
          ]
        }
      ]
    },
    {
      "cell_type": "code",
      "source": [
        "list1 = [1,2,3,4,5]\n",
        "seqr =map(lambda x:x**2, list1)\n",
        "print(list(seqr))"
      ],
      "metadata": {
        "colab": {
          "base_uri": "https://localhost:8080/"
        },
        "id": "VEw97PWBt6aG",
        "outputId": "24a138d2-35b3-4518-8153-496cea75ebe6"
      },
      "execution_count": null,
      "outputs": [
        {
          "output_type": "stream",
          "name": "stdout",
          "text": [
            "[1, 4, 9, 16, 25]\n"
          ]
        }
      ]
    },
    {
      "cell_type": "markdown",
      "source": [
        "recursion"
      ],
      "metadata": {
        "id": "CSx-vyO3yRvo"
      }
    },
    {
      "cell_type": "code",
      "source": [
        "def factorial(n):\n",
        "  if n == 0:\n",
        "    return 1\n",
        "  else:\n",
        "    return n* factorial(n-1)\n",
        "factorial(5)"
      ],
      "metadata": {
        "colab": {
          "base_uri": "https://localhost:8080/"
        },
        "id": "SgLXBzsCyUPg",
        "outputId": "0075d8a4-69a3-4f75-edff-65b0c79af6ed"
      },
      "execution_count": null,
      "outputs": [
        {
          "output_type": "execute_result",
          "data": {
            "text/plain": [
              "120"
            ]
          },
          "metadata": {},
          "execution_count": 6
        }
      ]
    },
    {
      "cell_type": "markdown",
      "source": [
        "nested function"
      ],
      "metadata": {
        "id": "8LXk69mP1Czs"
      }
    },
    {
      "cell_type": "code",
      "source": [
        "def outer(x):\n",
        "  def inner(y):\n",
        "    return x+y\n",
        "  return inner\n",
        "result= outer(5)(3)\n",
        "print(result)"
      ],
      "metadata": {
        "id": "FtT9RZ-f1Fcj",
        "colab": {
          "base_uri": "https://localhost:8080/"
        },
        "outputId": "772ce7bd-db2c-4631-b28d-c3caf7be3a9e"
      },
      "execution_count": null,
      "outputs": [
        {
          "output_type": "stream",
          "name": "stdout",
          "text": [
            "8\n"
          ]
        }
      ]
    },
    {
      "cell_type": "code",
      "source": [
        "def outer():\n",
        "  x=0\n",
        "  def inner():\n",
        "    nonlocal x\n",
        "    x+=1\n",
        "    return x\n",
        "  return inner\n",
        "count =outer()\n",
        "print(count())\n",
        "print(count())\n",
        "print(count())\n",
        "print(count())"
      ],
      "metadata": {
        "colab": {
          "base_uri": "https://localhost:8080/"
        },
        "id": "qKsFBk3g2Eds",
        "outputId": "59a3151f-6c2b-4d2e-c9bc-b5e622cfa3a2"
      },
      "execution_count": null,
      "outputs": [
        {
          "output_type": "stream",
          "name": "stdout",
          "text": [
            "1\n",
            "2\n",
            "3\n",
            "4\n"
          ]
        }
      ]
    },
    {
      "cell_type": "code",
      "source": [
        "def multiply(n):\n",
        "  def multiplier(x):\n",
        "    return x*n\n",
        "  return multiplier\n",
        "double=multiply(2)\n",
        "triple = multiply(3)\n",
        "print(double(5))\n",
        "print(triple(5))"
      ],
      "metadata": {
        "colab": {
          "base_uri": "https://localhost:8080/"
        },
        "id": "Pl3wi8CA3cb7",
        "outputId": "dfd76b07-8cd6-4ed0-9b19-b49b1a2ad71a"
      },
      "execution_count": null,
      "outputs": [
        {
          "output_type": "stream",
          "name": "stdout",
          "text": [
            "10\n",
            "15\n"
          ]
        }
      ]
    },
    {
      "cell_type": "code",
      "source": [
        "def print_values(**values):\n",
        "  print (values)\n",
        "print_values(one = 1, two = 2, num =100)"
      ],
      "metadata": {
        "id": "auYUe5cQ2Y0R",
        "outputId": "e9164333-5f31-436d-919e-767922571e0a",
        "colab": {
          "base_uri": "https://localhost:8080/"
        }
      },
      "execution_count": null,
      "outputs": [
        {
          "output_type": "stream",
          "name": "stdout",
          "text": [
            "{'one': 1, 'two': 2, 'num': 100}\n"
          ]
        }
      ]
    },
    {
      "cell_type": "code",
      "source": [
        "def print_values(**values):\n",
        "  for key, value in values.items():\n",
        "    print(\"{} = {}\".format(key,value))\n",
        "print_values(one = 1,two = 2,three = 3,four = 4,five = 5)"
      ],
      "metadata": {
        "id": "ju3Bb38t2ZvD",
        "colab": {
          "base_uri": "https://localhost:8080/"
        },
        "outputId": "468de549-5074-4c4f-f635-bf756905ea20"
      },
      "execution_count": null,
      "outputs": [
        {
          "output_type": "stream",
          "name": "stdout",
          "text": [
            "one = 1\n",
            "two = 2\n",
            "three = 3\n",
            "four = 4\n",
            "five = 5\n"
          ]
        }
      ]
    },
    {
      "cell_type": "code",
      "source": [
        "def greet(**kwargs):\n",
        "    if kwargs is not None:\n",
        "        for key, value in kwargs.items():\n",
        "            print (\"%s == %s\" %(key,value))\n",
        "greet(name=\"Python\")"
      ],
      "metadata": {
        "colab": {
          "base_uri": "https://localhost:8080/"
        },
        "id": "vrCMbg14tz4K",
        "outputId": "b2e662b3-e0b6-4f49-d861-435c56822193"
      },
      "execution_count": null,
      "outputs": [
        {
          "output_type": "stream",
          "name": "stdout",
          "text": [
            "name == Python\n"
          ]
        }
      ]
    },
    {
      "cell_type": "code",
      "source": [
        "def avg_of_two(a,b):\n",
        "  print ((a+b)/2)\n",
        "def avg_of_three(a,b,c):\n",
        "  print ((a+b+c)/3)\n",
        "var1 = {'a':1,'b':2}\n",
        "avg_of_two(**var1)\n",
        "var2 = {'a':1,'b':2,'c':3}\n",
        "avg_of_three(**var2)"
      ],
      "metadata": {
        "colab": {
          "base_uri": "https://localhost:8080/"
        },
        "id": "vapTHlrAuMIb",
        "outputId": "97cb3f9a-d65b-4143-8c4e-48764ac23d52"
      },
      "execution_count": null,
      "outputs": [
        {
          "output_type": "stream",
          "name": "stdout",
          "text": [
            "1.5\n",
            "2.0\n"
          ]
        }
      ]
    },
    {
      "cell_type": "code",
      "source": [
        "def show_details(a,b,*args,**kwargs):\n",
        "  print(\"a is \",a)\n",
        "  print(\"b is \",b)\n",
        "  print(\"args is \",args)\n",
        "  print(\"kwargs is \",kwargs)\n",
        "show_details(1,2,3,4,5,6,7,8,9)\n",
        "print(\"-----------\")\n",
        "show_details(1,2,3,4,5,6,c= 7,d = 8,e = 9)"
      ],
      "metadata": {
        "colab": {
          "base_uri": "https://localhost:8080/"
        },
        "id": "XYAFafMiuUOT",
        "outputId": "40f99238-283b-4893-8024-27e06a04f444"
      },
      "execution_count": null,
      "outputs": [
        {
          "output_type": "stream",
          "name": "stdout",
          "text": [
            "a is  1\n",
            "b is  2\n",
            "args is  (3, 4, 5, 6, 7, 8, 9)\n",
            "kwargs is  {}\n",
            "-----------\n",
            "a is  1\n",
            "b is  2\n",
            "args is  (3, 4, 5, 6)\n",
            "kwargs is  {'c': 7, 'd': 8, 'e': 9}\n"
          ]
        }
      ]
    },
    {
      "cell_type": "code",
      "source": [
        "def test_args_kwargs(arg1, arg2, arg3):\n",
        "    print (\"arg1:\", arg1)\n",
        "    print (\"arg2:\", arg2)\n",
        "    print (\"arg3:\", arg3)\n",
        "#*args\n",
        "args = (\"two\", 3,5)\n",
        "test_args_kwargs(*args)\n",
        "\n",
        "# **kwargs:\n",
        "kwargs = {\"arg3\": 3, \"arg2\": \"two\",\"arg1\":5}\n",
        "test_args_kwargs(**kwargs)\n"
      ],
      "metadata": {
        "colab": {
          "base_uri": "https://localhost:8080/"
        },
        "id": "gNxB3Sq3vb6j",
        "outputId": "b98f6012-d670-4351-f8cf-75afc045f1b7"
      },
      "execution_count": null,
      "outputs": [
        {
          "output_type": "stream",
          "name": "stdout",
          "text": [
            "arg1: two\n",
            "arg2: 3\n",
            "arg3: 5\n",
            "arg1: 5\n",
            "arg2: two\n",
            "arg3: 3\n"
          ]
        }
      ]
    },
    {
      "cell_type": "code",
      "execution_count": null,
      "metadata": {
        "colab": {
          "base_uri": "https://localhost:8080/"
        },
        "id": "M8D_Uxk7uqij",
        "outputId": "13f7a003-cace-437d-8a4e-a4ee6a26b49f"
      },
      "outputs": [
        {
          "output_type": "stream",
          "name": "stdout",
          "text": [
            "average is  3.5\n"
          ]
        }
      ],
      "source": [
        "def find_avg(a,b):\n",
        "  average = (a+b)/2\n",
        "  print(\"average is \", average)\n",
        "find_avg(3,4)"
      ]
    },
    {
      "cell_type": "code",
      "source": [
        "def find_avg(*num):\n",
        "  sum=0\n",
        "  for i in num:\n",
        "    sum+=i\n",
        "  avg=sum/(len(num))\n",
        "  print(\"average = \", avg)\n",
        "  print(num)\n",
        "find_avg(3,4)\n",
        "find_avg(3,4,5)\n",
        "find_avg(3,4,5,6,7)"
      ],
      "metadata": {
        "id": "bcOJofNIu8-9",
        "colab": {
          "base_uri": "https://localhost:8080/"
        },
        "outputId": "23d8893d-48c9-4c1a-fb9a-1f764c90bb9c"
      },
      "execution_count": null,
      "outputs": [
        {
          "output_type": "stream",
          "name": "stdout",
          "text": [
            "average =  3.5\n",
            "(3, 4)\n",
            "average =  4.0\n",
            "(3, 4, 5)\n",
            "average =  5.0\n",
            "(3, 4, 5, 6, 7)\n"
          ]
        }
      ]
    },
    {
      "cell_type": "code",
      "source": [
        "def avg_of_two(a,b):\n",
        "  print ((a+b)/2)\n",
        "def avg_of_three(a,b,c):\n",
        "  print ((a+b+c)/3)\n",
        "v1 = (7,5)\n",
        "avg_of_two(*v1)\n",
        "v2 = (3,6,7)\n",
        "avg_of_three(*v2)"
      ],
      "metadata": {
        "colab": {
          "base_uri": "https://localhost:8080/"
        },
        "id": "ZWaNZzD-7cpQ",
        "outputId": "0ec8c125-51a5-4624-9a3f-1c373ee7302d"
      },
      "execution_count": null,
      "outputs": [
        {
          "output_type": "stream",
          "name": "stdout",
          "text": [
            "6.0\n",
            "5.333333333333333\n"
          ]
        }
      ]
    },
    {
      "cell_type": "code",
      "source": [],
      "metadata": {
        "id": "W7Sf8p2mFnzR"
      },
      "execution_count": null,
      "outputs": []
    }
  ]
}