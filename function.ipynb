{
  "nbformat": 4,
  "nbformat_minor": 0,
  "metadata": {
    "colab": {
      "provenance": [],
      "authorship_tag": "ABX9TyMNyBY/XpNTIUAO7de8MLU1",
      "include_colab_link": true
    },
    "kernelspec": {
      "name": "python3",
      "display_name": "Python 3"
    },
    "language_info": {
      "name": "python"
    }
  },
  "cells": [
    {
      "cell_type": "markdown",
      "metadata": {
        "id": "view-in-github",
        "colab_type": "text"
      },
      "source": [
        "<a href=\"https://colab.research.google.com/github/HebaSedik/python/blob/master/function.ipynb\" target=\"_parent\"><img src=\"https://colab.research.google.com/assets/colab-badge.svg\" alt=\"Open In Colab\"/></a>"
      ]
    },
    {
      "cell_type": "code",
      "source": [
        "def stars() :\n",
        "    for i in range(5) :\n",
        "        print ('**')\n",
        "stars()"
      ],
      "metadata": {
        "colab": {
          "base_uri": "https://localhost:8080/"
        },
        "id": "kYPxfqY5Fo9J",
        "outputId": "31abd924-5be2-44d1-b297-339b7a9d0490"
      },
      "execution_count": 18,
      "outputs": [
        {
          "output_type": "stream",
          "name": "stdout",
          "text": [
            "**\n",
            "**\n",
            "**\n",
            "**\n",
            "**\n"
          ]
        }
      ]
    },
    {
      "cell_type": "code",
      "source": [
        "def add(a,b):\n",
        "  return a+b\n",
        "print(\"add is\",add(5,6))\n",
        "def sub(a,b):\n",
        "  return a-b\n",
        "print(\"sub is\",sub(10,5))"
      ],
      "metadata": {
        "colab": {
          "base_uri": "https://localhost:8080/"
        },
        "id": "Zp6-IinilaOZ",
        "outputId": "84e52665-6477-43e0-82f1-a1d238582433"
      },
      "execution_count": 19,
      "outputs": [
        {
          "output_type": "stream",
          "name": "stdout",
          "text": [
            "add is 11\n",
            "sub is 5\n"
          ]
        }
      ]
    },
    {
      "cell_type": "code",
      "source": [
        "def great(name, message):\n",
        "  print(f\"{message}, {name}!\")\n",
        "great(\"heba\", \"hello\")"
      ],
      "metadata": {
        "colab": {
          "base_uri": "https://localhost:8080/"
        },
        "id": "pV3T5i-Smwu2",
        "outputId": "0627312c-ae59-440e-fffe-cfb21f328356"
      },
      "execution_count": 20,
      "outputs": [
        {
          "output_type": "stream",
          "name": "stdout",
          "text": [
            "hello, heba!\n"
          ]
        }
      ]
    },
    {
      "cell_type": "code",
      "source": [
        "sum = lambda x,y: x+y\n",
        "print(sum(6,7))"
      ],
      "metadata": {
        "colab": {
          "base_uri": "https://localhost:8080/"
        },
        "id": "M9Ei-L0rtpw-",
        "outputId": "b47253ed-bcfa-4585-ec82-d5db8c1ed5bd"
      },
      "execution_count": 21,
      "outputs": [
        {
          "output_type": "stream",
          "name": "stdout",
          "text": [
            "13\n"
          ]
        }
      ]
    },
    {
      "cell_type": "code",
      "source": [
        "list1 = [1,2,3,4,5]\n",
        "seqr =map(lambda x:x**2, list1)\n",
        "print(list(seqr))"
      ],
      "metadata": {
        "colab": {
          "base_uri": "https://localhost:8080/"
        },
        "id": "VEw97PWBt6aG",
        "outputId": "804274da-0711-49c6-9c28-54727b71c940"
      },
      "execution_count": 22,
      "outputs": [
        {
          "output_type": "stream",
          "name": "stdout",
          "text": [
            "[1, 4, 9, 16, 25]\n"
          ]
        }
      ]
    },
    {
      "cell_type": "markdown",
      "source": [
        "recursion"
      ],
      "metadata": {
        "id": "CSx-vyO3yRvo"
      }
    },
    {
      "cell_type": "code",
      "source": [
        "def factorial(n):\n",
        "  if n == 0:\n",
        "    return 1\n",
        "  else:\n",
        "    return n* factorial(n-1)\n",
        "factorial(5)"
      ],
      "metadata": {
        "colab": {
          "base_uri": "https://localhost:8080/"
        },
        "id": "SgLXBzsCyUPg",
        "outputId": "bc4c6c9c-9aea-4622-d586-19c288b4e6e3"
      },
      "execution_count": 23,
      "outputs": [
        {
          "output_type": "execute_result",
          "data": {
            "text/plain": [
              "120"
            ]
          },
          "metadata": {},
          "execution_count": 23
        }
      ]
    },
    {
      "cell_type": "markdown",
      "source": [
        "nested function"
      ],
      "metadata": {
        "id": "8LXk69mP1Czs"
      }
    },
    {
      "cell_type": "code",
      "source": [
        "def outer(x):\n",
        "  def inner(y):\n",
        "    return x+y\n",
        "  return inner\n",
        "result= outer(5)(3)\n",
        "print(result)"
      ],
      "metadata": {
        "id": "FtT9RZ-f1Fcj",
        "colab": {
          "base_uri": "https://localhost:8080/"
        },
        "outputId": "2d25ddbd-753f-475b-ab9c-7c79a5453090"
      },
      "execution_count": 24,
      "outputs": [
        {
          "output_type": "stream",
          "name": "stdout",
          "text": [
            "8\n"
          ]
        }
      ]
    },
    {
      "cell_type": "code",
      "source": [
        "def outer():\n",
        "  x=0\n",
        "  def inner():\n",
        "    nonlocal x\n",
        "    x+=1\n",
        "    return x\n",
        "  return inner\n",
        "count =outer()\n",
        "print(count())\n",
        "print(count())\n",
        "print(count())\n",
        "print(count())"
      ],
      "metadata": {
        "colab": {
          "base_uri": "https://localhost:8080/"
        },
        "id": "qKsFBk3g2Eds",
        "outputId": "0cc1b8a3-67d6-4452-f4da-c6cc79fb9dbb"
      },
      "execution_count": 25,
      "outputs": [
        {
          "output_type": "stream",
          "name": "stdout",
          "text": [
            "1\n",
            "2\n",
            "3\n",
            "4\n"
          ]
        }
      ]
    },
    {
      "cell_type": "code",
      "source": [
        "def multiply(n):\n",
        "  def multiplier(x):\n",
        "    return x*n\n",
        "  return multiplier\n",
        "double=multiply(2)\n",
        "triple = multiply(3)\n",
        "print(double(5))\n",
        "print(triple(5))"
      ],
      "metadata": {
        "colab": {
          "base_uri": "https://localhost:8080/"
        },
        "id": "Pl3wi8CA3cb7",
        "outputId": "e063a1e3-c065-4222-c26a-3a9bc499357e"
      },
      "execution_count": 26,
      "outputs": [
        {
          "output_type": "stream",
          "name": "stdout",
          "text": [
            "10\n",
            "15\n"
          ]
        }
      ]
    },
    {
      "cell_type": "markdown",
      "source": [
        "find average"
      ],
      "metadata": {
        "id": "vf9-O9i23KMX"
      }
    },
    {
      "cell_type": "code",
      "execution_count": 27,
      "metadata": {
        "colab": {
          "base_uri": "https://localhost:8080/"
        },
        "id": "M8D_Uxk7uqij",
        "outputId": "13f7a003-cace-437d-8a4e-a4ee6a26b49f"
      },
      "outputs": [
        {
          "output_type": "stream",
          "name": "stdout",
          "text": [
            "average is  3.5\n"
          ]
        }
      ],
      "source": [
        "def find_avg(a,b):\n",
        "  average = (a+b)/2\n",
        "  print(\"average is \", average)\n",
        "find_avg(3,4)"
      ]
    },
    {
      "cell_type": "code",
      "source": [
        "def find_avg(*num):\n",
        "  sum=0\n",
        "  for i in num:\n",
        "    sum+=i\n",
        "  avg=sum/(len(num))\n",
        "  print(\"average = \", avg)\n",
        "  print(num)\n",
        "find_avg(3,4)\n",
        "find_avg(3,4,5)\n",
        "find_avg(3,4,5,6,7)"
      ],
      "metadata": {
        "id": "bcOJofNIu8-9",
        "colab": {
          "base_uri": "https://localhost:8080/"
        },
        "outputId": "23d8893d-48c9-4c1a-fb9a-1f764c90bb9c"
      },
      "execution_count": 28,
      "outputs": [
        {
          "output_type": "stream",
          "name": "stdout",
          "text": [
            "average =  3.5\n",
            "(3, 4)\n",
            "average =  4.0\n",
            "(3, 4, 5)\n",
            "average =  5.0\n",
            "(3, 4, 5, 6, 7)\n"
          ]
        }
      ]
    },
    {
      "cell_type": "code",
      "source": [
        "def avg_of_two(a,b):\n",
        "  print ((a+b)/2)\n",
        "def avg_of_three(a,b,c):\n",
        "  print ((a+b+c)/3)\n",
        "v1 = (7,5)\n",
        "avg_of_two(*v1)\n",
        "v2 = (3,6,7)\n",
        "avg_of_three(*v2)"
      ],
      "metadata": {
        "colab": {
          "base_uri": "https://localhost:8080/"
        },
        "id": "ZWaNZzD-7cpQ",
        "outputId": "0ec8c125-51a5-4624-9a3f-1c373ee7302d"
      },
      "execution_count": 29,
      "outputs": [
        {
          "output_type": "stream",
          "name": "stdout",
          "text": [
            "6.0\n",
            "5.333333333333333\n"
          ]
        }
      ]
    },
    {
      "cell_type": "code",
      "source": [],
      "metadata": {
        "id": "W7Sf8p2mFnzR"
      },
      "execution_count": null,
      "outputs": []
    }
  ]
}