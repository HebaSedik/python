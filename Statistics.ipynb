{
  "nbformat": 4,
  "nbformat_minor": 0,
  "metadata": {
    "colab": {
      "provenance": [],
      "gpuType": "T4",
      "authorship_tag": "ABX9TyOmyqR36NXfE9Nnyg5I48sz",
      "include_colab_link": true
    },
    "kernelspec": {
      "name": "python3",
      "display_name": "Python 3"
    },
    "language_info": {
      "name": "python"
    },
    "accelerator": "GPU"
  },
  "cells": [
    {
      "cell_type": "markdown",
      "metadata": {
        "id": "view-in-github",
        "colab_type": "text"
      },
      "source": [
        "<a href=\"https://colab.research.google.com/github/HebaSedik/python/blob/master/Statistics.ipynb\" target=\"_parent\"><img src=\"https://colab.research.google.com/assets/colab-badge.svg\" alt=\"Open In Colab\"/></a>"
      ]
    },
    {
      "cell_type": "code",
      "execution_count": 1,
      "metadata": {
        "colab": {
          "base_uri": "https://localhost:8080/"
        },
        "id": "8-UDiataEa4_",
        "outputId": "68bcaae5-e547-4fb8-8dea-dd0a9ebbd696"
      },
      "outputs": [
        {
          "output_type": "stream",
          "name": "stdout",
          "text": [
            "5\n"
          ]
        }
      ],
      "source": [
        "import statistics as st\n",
        "b = [1,2,3,4,5,6,7,8,9]\n",
        "a = st.mean(b)\n",
        "print(a)"
      ]
    },
    {
      "cell_type": "code",
      "source": [
        "import statistics as st\n",
        "a = st.harmonic_mean([7,5,2,3,6,9,33,2.5])\n",
        "print(a)"
      ],
      "metadata": {
        "colab": {
          "base_uri": "https://localhost:8080/"
        },
        "id": "SQNlztrHEk2Y",
        "outputId": "51522c41-7d2c-41df-8d42-b9f0f5444df2"
      },
      "execution_count": 3,
      "outputs": [
        {
          "output_type": "stream",
          "name": "stdout",
          "text": [
            "4.245673150559044\n"
          ]
        }
      ]
    },
    {
      "cell_type": "code",
      "source": [
        "import statistics as st\n",
        "a = st.median([3,6,9,4,5,3.2,9,7])\n",
        "print(a)\n",
        "b = st.median([3,6,9,4,3.2,9,7])\n",
        "print(b)"
      ],
      "metadata": {
        "colab": {
          "base_uri": "https://localhost:8080/"
        },
        "id": "96AF09hHEpIH",
        "outputId": "eecb5229-2ce2-4f73-f1aa-644e24bcd003"
      },
      "execution_count": 6,
      "outputs": [
        {
          "output_type": "stream",
          "name": "stdout",
          "text": [
            "5.5\n",
            "6\n"
          ]
        }
      ]
    },
    {
      "cell_type": "code",
      "source": [
        "import statistics as st\n",
        "x= st.median_low([3,6,9,4,5,10,30,3.2,9,7,9])\n",
        "print(x)\n",
        "x= st.mode([3,6,9,4,5,10,30,3.2,9,7,9])\n",
        "print(x)"
      ],
      "metadata": {
        "colab": {
          "base_uri": "https://localhost:8080/"
        },
        "id": "rD7fekxPEvYh",
        "outputId": "deb36eef-3ca6-478d-99ac-8b9c6b145a81"
      },
      "execution_count": 8,
      "outputs": [
        {
          "output_type": "stream",
          "name": "stdout",
          "text": [
            "7\n",
            "9\n"
          ]
        }
      ]
    },
    {
      "cell_type": "code",
      "source": [
        "import statistics as st\n",
        "a = st.stdev([0,30,70,-60,90])\n",
        "print(a)\n",
        "a = st.stdev([1,3,4,6,7,9,10])\n",
        "print(a)\n",
        "a = st.variance([1,3,4,6,7,9,10])\n",
        "print(a)"
      ],
      "metadata": {
        "colab": {
          "base_uri": "https://localhost:8080/"
        },
        "id": "Tu4AlyxzE_ki",
        "outputId": "e91a8d72-6b24-450f-d2ed-090241b27275"
      },
      "execution_count": 10,
      "outputs": [
        {
          "output_type": "stream",
          "name": "stdout",
          "text": [
            "59.413803110051795\n",
            "3.251373336211726\n",
            "10.571428571428571\n"
          ]
        }
      ]
    },
    {
      "cell_type": "code",
      "source": [],
      "metadata": {
        "id": "hDlCqfGJFV05"
      },
      "execution_count": null,
      "outputs": []
    }
  ]
}