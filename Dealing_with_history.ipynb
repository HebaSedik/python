{
  "nbformat": 4,
  "nbformat_minor": 0,
  "metadata": {
    "colab": {
      "provenance": [],
      "authorship_tag": "ABX9TyMKQHEx2ru/XIMvWKvbyTPw",
      "include_colab_link": true
    },
    "kernelspec": {
      "name": "python3",
      "display_name": "Python 3"
    },
    "language_info": {
      "name": "python"
    }
  },
  "cells": [
    {
      "cell_type": "markdown",
      "metadata": {
        "id": "view-in-github",
        "colab_type": "text"
      },
      "source": [
        "<a href=\"https://colab.research.google.com/github/HebaSedik/python/blob/master/Dealing_with_history.ipynb\" target=\"_parent\"><img src=\"https://colab.research.google.com/assets/colab-badge.svg\" alt=\"Open In Colab\"/></a>"
      ]
    },
    {
      "cell_type": "markdown",
      "source": [
        "# **Dealing with history**"
      ],
      "metadata": {
        "id": "nJZrWcurVvhJ"
      }
    },
    {
      "cell_type": "code",
      "execution_count": 1,
      "metadata": {
        "colab": {
          "base_uri": "https://localhost:8080/"
        },
        "id": "tqvJX85MUvh5",
        "outputId": "f4439ac8-f66c-49a9-a19c-99416ef684e9"
      },
      "outputs": [
        {
          "output_type": "stream",
          "name": "stdout",
          "text": [
            "2023-09-14\n"
          ]
        }
      ],
      "source": [
        "from numpy import *\n",
        "x = array('2023-09-14', dtype=datetime64)\n",
        "print(x)"
      ]
    },
    {
      "cell_type": "code",
      "source": [
        "from numpy import *\n",
        "x = datetime64('2023-09-14')\n",
        "print(x)"
      ],
      "metadata": {
        "colab": {
          "base_uri": "https://localhost:8080/"
        },
        "id": "fbt5o7LaU_3u",
        "outputId": "69f7c6b7-fdd3-4121-a2f7-4dd3331ba327"
      },
      "execution_count": 2,
      "outputs": [
        {
          "output_type": "stream",
          "name": "stdout",
          "text": [
            "2023-09-14\n"
          ]
        }
      ]
    },
    {
      "cell_type": "code",
      "source": [
        "from numpy import *\n",
        "x = datetime64('2023-09-14')\n",
        "y = x + arange(12)\n",
        "print(x)\n",
        "print(y)"
      ],
      "metadata": {
        "colab": {
          "base_uri": "https://localhost:8080/"
        },
        "id": "BivD1EFVVEq_",
        "outputId": "61d276d3-e0b7-40a1-ed3c-43a731baafa5"
      },
      "execution_count": 3,
      "outputs": [
        {
          "output_type": "stream",
          "name": "stdout",
          "text": [
            "2023-09-14\n",
            "['2023-09-14' '2023-09-15' '2023-09-16' '2023-09-17' '2023-09-18'\n",
            " '2023-09-19' '2023-09-20' '2023-09-21' '2023-09-22' '2023-09-23'\n",
            " '2023-09-24' '2023-09-25']\n"
          ]
        }
      ]
    },
    {
      "cell_type": "code",
      "source": [
        "from numpy import *\n",
        "x = datetime64('2023-09-14')\n",
        "y = x - arange(12)\n",
        "print(x)\n",
        "print(y)"
      ],
      "metadata": {
        "colab": {
          "base_uri": "https://localhost:8080/"
        },
        "id": "HyJA_VtoVLvd",
        "outputId": "9c98f681-9605-4085-fd12-3475e639b988"
      },
      "execution_count": 4,
      "outputs": [
        {
          "output_type": "stream",
          "name": "stdout",
          "text": [
            "2023-09-14\n",
            "['2023-09-14' '2023-09-13' '2023-09-12' '2023-09-11' '2023-09-10'\n",
            " '2023-09-09' '2023-09-08' '2023-09-07' '2023-09-06' '2023-09-05'\n",
            " '2023-09-04' '2023-09-03']\n"
          ]
        }
      ]
    },
    {
      "cell_type": "code",
      "source": [
        "from numpy import *\n",
        "x = datetime64('2001-07-25')\n",
        "y = datetime64('2023-09-14')\n",
        "z = y-x\n",
        "print(x)\n",
        "print(y)\n",
        "print(z)"
      ],
      "metadata": {
        "colab": {
          "base_uri": "https://localhost:8080/"
        },
        "id": "mkqBcNhKVQMm",
        "outputId": "92974f60-7a6c-417e-e9ae-49a9f5ccb656"
      },
      "execution_count": 5,
      "outputs": [
        {
          "output_type": "stream",
          "name": "stdout",
          "text": [
            "2001-07-25\n",
            "2023-09-14\n",
            "8086 days\n"
          ]
        }
      ]
    },
    {
      "cell_type": "code",
      "source": [],
      "metadata": {
        "id": "fa-efeytVcVX"
      },
      "execution_count": null,
      "outputs": []
    }
  ]
}