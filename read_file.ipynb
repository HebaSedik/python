{
  "nbformat": 4,
  "nbformat_minor": 0,
  "metadata": {
    "colab": {
      "provenance": [],
      "authorship_tag": "ABX9TyOROT9Qx3FthEha4g9YeJ5o",
      "include_colab_link": true
    },
    "kernelspec": {
      "name": "python3",
      "display_name": "Python 3"
    },
    "language_info": {
      "name": "python"
    }
  },
  "cells": [
    {
      "cell_type": "markdown",
      "metadata": {
        "id": "view-in-github",
        "colab_type": "text"
      },
      "source": [
        "<a href=\"https://colab.research.google.com/github/HebaSedik/python/blob/master/read_file.ipynb\" target=\"_parent\"><img src=\"https://colab.research.google.com/assets/colab-badge.svg\" alt=\"Open In Colab\"/></a>"
      ]
    },
    {
      "cell_type": "code",
      "execution_count": 1,
      "metadata": {
        "colab": {
          "base_uri": "https://localhost:8080/"
        },
        "id": "FXopCi-f5OF_",
        "outputId": "7e9887a1-416e-4fa9-a45f-72197966eb55"
      },
      "outputs": [
        {
          "output_type": "stream",
          "name": "stdout",
          "text": [
            "[(b'M', 1.82) (b'M', 1.77) (b'F', 1.68) (b'M', 1.72) (b'F', 1.78)\n",
            " (b'F', 1.6 ) (b'M', 1.72) (b'M', 1.83) (b'F', 1.56) (b'F', 1.64)\n",
            " (b'M', 1.63) (b'M', 1.67) (b'M', 1.66) (b'F', 1.59) (b'F', 1.7 )\n",
            " (b'M', 1.97) (b'F', 1.66) (b'F', 1.63) (b'M', 1.69)]\n"
          ]
        }
      ],
      "source": [
        "from numpy import *\n",
        "fname = '1.txt'\n",
        "dtype1 = dtype([('gender', '|S1'), ('height', 'f8')])\n",
        "a = loadtxt(fname, dtype=dtype1, skiprows=9, usecols=(1,3))\n",
        "print(a)"
      ]
    },
    {
      "cell_type": "code",
      "source": [
        "from numpy import *\n",
        "a,b,c = loadtxt('0.txt', unpack=True,skiprows=3)\n",
        "print(a)\n",
        "print(b)\n",
        "print(c)"
      ],
      "metadata": {
        "colab": {
          "base_uri": "https://localhost:8080/"
        },
        "id": "D9tSoFaM5cWn",
        "outputId": "7d643153-d8d3-4dcd-bc54-eff2304dd4ff"
      },
      "execution_count": 2,
      "outputs": [
        {
          "output_type": "stream",
          "name": "stdout",
          "text": [
            "[1890. 1900. 1910. 1920. 1930.]\n",
            "[26.1 25.9 25.1 24.6 24.3]\n",
            "[22.  21.9 21.6 21.2 21.3]\n"
          ]
        }
      ]
    },
    {
      "cell_type": "code",
      "source": [],
      "metadata": {
        "id": "aodmgQTr56el"
      },
      "execution_count": null,
      "outputs": []
    }
  ]
}