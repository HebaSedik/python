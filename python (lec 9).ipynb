{
  "nbformat": 4,
  "nbformat_minor": 0,
  "metadata": {
    "colab": {
      "provenance": [],
      "authorship_tag": "ABX9TyOCpoenp+RIgtcAPHwdvbz+",
      "include_colab_link": true
    },
    "kernelspec": {
      "name": "python3",
      "display_name": "Python 3"
    },
    "language_info": {
      "name": "python"
    }
  },
  "cells": [
    {
      "cell_type": "markdown",
      "metadata": {
        "id": "view-in-github",
        "colab_type": "text"
      },
      "source": [
        "<a href=\"https://colab.research.google.com/github/HebaSedik/python/blob/master/python%20(lec%209).ipynb\" target=\"_parent\"><img src=\"https://colab.research.google.com/assets/colab-badge.svg\" alt=\"Open In Colab\"/></a>"
      ]
    },
    {
      "cell_type": "markdown",
      "source": [
        "built in functions lec 9"
      ],
      "metadata": {
        "id": "MZXegibcc6wG"
      }
    },
    {
      "cell_type": "code",
      "execution_count": 1,
      "metadata": {
        "colab": {
          "base_uri": "https://localhost:8080/"
        },
        "id": "L6ZNIDFjcnvy",
        "outputId": "21749d3c-6adb-4f02-ce23-7db9a7bf4717"
      },
      "outputs": [
        {
          "output_type": "execute_result",
          "data": {
            "text/plain": [
              "['r', 'g', 'b']"
            ]
          },
          "metadata": {},
          "execution_count": 1
        }
      ],
      "source": [
        "list(map(lambda x: x[0],['red', 'green','blue']))"
      ]
    },
    {
      "cell_type": "code",
      "source": [
        "list (map(lambda x,y: str(x)+' ' +y+'s' ,[0,1,2],['apple','orange','banana']))"
      ],
      "metadata": {
        "colab": {
          "base_uri": "https://localhost:8080/"
        },
        "id": "12qMj-y9c4zs",
        "outputId": "e97e0e3b-9c97-4771-ce72-1881b85d7373"
      },
      "execution_count": 2,
      "outputs": [
        {
          "output_type": "execute_result",
          "data": {
            "text/plain": [
              "['0 apples', '1 oranges', '2 bananas']"
            ]
          },
          "metadata": {},
          "execution_count": 2
        }
      ]
    },
    {
      "cell_type": "code",
      "source": [
        "\" mohamed \".join(list(['heba','sedik']))"
      ],
      "metadata": {
        "colab": {
          "base_uri": "https://localhost:8080/",
          "height": 36
        },
        "id": "EMeZ2EZbdUS5",
        "outputId": "39c792f6-3d6d-49a5-ded8-9a20b7081536"
      },
      "execution_count": 3,
      "outputs": [
        {
          "output_type": "execute_result",
          "data": {
            "text/plain": [
              "'heba mohamed sedik'"
            ],
            "application/vnd.google.colaboratory.intrinsic+json": {
              "type": "string"
            }
          },
          "metadata": {},
          "execution_count": 3
        }
      ]
    },
    {
      "cell_type": "code",
      "source": [
        "#list(filter[lambda x:True if x >5 else False , [2,4,7,9]])"
      ],
      "metadata": {
        "id": "aRmq10GAdkUf"
      },
      "execution_count": 9,
      "outputs": []
    },
    {
      "cell_type": "code",
      "source": [
        "print(\"\\n  \\t 22 \\t\".strip())"
      ],
      "metadata": {
        "colab": {
          "base_uri": "https://localhost:8080/"
        },
        "id": "dkSRU9Jzd395",
        "outputId": "2055be1d-237b-43df-c30b-db4af8f99c02"
      },
      "execution_count": 10,
      "outputs": [
        {
          "output_type": "stream",
          "name": "stdout",
          "text": [
            "22\n"
          ]
        }
      ]
    },
    {
      "cell_type": "code",
      "source": [
        "sorted([5,9,1,3,7])"
      ],
      "metadata": {
        "colab": {
          "base_uri": "https://localhost:8080/"
        },
        "id": "c8JqQTvqe04U",
        "outputId": "82737272-42ec-44b0-db59-708e0ca6d5f6"
      },
      "execution_count": 11,
      "outputs": [
        {
          "output_type": "execute_result",
          "data": {
            "text/plain": [
              "[1, 3, 5, 7, 9]"
            ]
          },
          "metadata": {},
          "execution_count": 11
        }
      ]
    },
    {
      "cell_type": "code",
      "source": [
        "sorted([5,9,1,3,7], key=lambda x:0 if x==3 else x)"
      ],
      "metadata": {
        "colab": {
          "base_uri": "https://localhost:8080/"
        },
        "id": "UEDFfaHDe7kh",
        "outputId": "f45d162a-316e-4766-e562-abe44ac0d2ec"
      },
      "execution_count": 12,
      "outputs": [
        {
          "output_type": "execute_result",
          "data": {
            "text/plain": [
              "[3, 1, 5, 7, 9]"
            ]
          },
          "metadata": {},
          "execution_count": 12
        }
      ]
    },
    {
      "cell_type": "code",
      "source": [
        "list(zip([\"heba\",\"ahmed\"],['mohamed', 'sedik']))"
      ],
      "metadata": {
        "colab": {
          "base_uri": "https://localhost:8080/"
        },
        "id": "DBXL-LnxfM6S",
        "outputId": "e315fc7b-07e6-4f0b-e855-77b40bc369b5"
      },
      "execution_count": 15,
      "outputs": [
        {
          "output_type": "execute_result",
          "data": {
            "text/plain": [
              "[('heba', 'mohamed'), ('ahmed', 'sedik')]"
            ]
          },
          "metadata": {},
          "execution_count": 15
        }
      ]
    },
    {
      "cell_type": "code",
      "source": [
        "list(zip(*[\"heba\",\"ahmed\",'mohamed', 'sedik']))"
      ],
      "metadata": {
        "colab": {
          "base_uri": "https://localhost:8080/"
        },
        "id": "6DJSjn2qfVeA",
        "outputId": "98a9be55-e4b7-462e-f6e9-d1ec6a82ca2b"
      },
      "execution_count": 20,
      "outputs": [
        {
          "output_type": "execute_result",
          "data": {
            "text/plain": [
              "[('h', 'a', 'm', 's'),\n",
              " ('e', 'h', 'o', 'e'),\n",
              " ('b', 'm', 'h', 'd'),\n",
              " ('a', 'e', 'a', 'i')]"
            ]
          },
          "metadata": {},
          "execution_count": 20
        }
      ]
    },
    {
      "cell_type": "code",
      "source": [
        "list(zip(*[('heba','ahmed'),('mohamed', 'sedik')]))"
      ],
      "metadata": {
        "colab": {
          "base_uri": "https://localhost:8080/"
        },
        "id": "nEUveEkgfoQs",
        "outputId": "a9f96ee3-a57a-44ac-fa53-51b096076ddf"
      },
      "execution_count": 19,
      "outputs": [
        {
          "output_type": "execute_result",
          "data": {
            "text/plain": [
              "[('heba', 'mohamed'), ('ahmed', 'sedik')]"
            ]
          },
          "metadata": {},
          "execution_count": 19
        }
      ]
    },
    {
      "cell_type": "code",
      "source": [
        "list(enumerate([\"heba\",\"ahmed\",'mohamed']))"
      ],
      "metadata": {
        "colab": {
          "base_uri": "https://localhost:8080/"
        },
        "id": "leRHJhUaf45u",
        "outputId": "923a55b4-6d9e-4a63-d221-3d46f0c3f944"
      },
      "execution_count": 21,
      "outputs": [
        {
          "output_type": "execute_result",
          "data": {
            "text/plain": [
              "[(0, 'heba'), (1, 'ahmed'), (2, 'mohamed')]"
            ]
          },
          "metadata": {},
          "execution_count": 21
        }
      ]
    },
    {
      "cell_type": "code",
      "source": [],
      "metadata": {
        "id": "2vMmJtGLgZgr"
      },
      "execution_count": null,
      "outputs": []
    }
  ]
}