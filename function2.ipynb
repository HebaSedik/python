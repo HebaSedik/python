{
  "nbformat": 4,
  "nbformat_minor": 0,
  "metadata": {
    "colab": {
      "provenance": [],
      "authorship_tag": "ABX9TyN0m7YYWWUWOvDKMdA/FfoN",
      "include_colab_link": true
    },
    "kernelspec": {
      "name": "python3",
      "display_name": "Python 3"
    },
    "language_info": {
      "name": "python"
    }
  },
  "cells": [
    {
      "cell_type": "markdown",
      "metadata": {
        "id": "view-in-github",
        "colab_type": "text"
      },
      "source": [
        "<a href=\"https://colab.research.google.com/github/HebaSedik/python/blob/master/function2.ipynb\" target=\"_parent\"><img src=\"https://colab.research.google.com/assets/colab-badge.svg\" alt=\"Open In Colab\"/></a>"
      ]
    },
    {
      "cell_type": "code",
      "execution_count": null,
      "metadata": {
        "colab": {
          "base_uri": "https://localhost:8080/"
        },
        "id": "cGtqwNdSVpNm",
        "outputId": "b4be8bdc-6d5a-4aac-9fc2-5c62c5d9f57e"
      },
      "outputs": [
        {
          "output_type": "stream",
          "name": "stdout",
          "text": [
            "9\n"
          ]
        }
      ],
      "source": [
        "def powers(m, n) :\n",
        "    print (m**(n))\n",
        "powers(3,2)"
      ]
    },
    {
      "cell_type": "code",
      "source": [
        "def powers(m, n = 4 ) :\n",
        "    print (m**(n))\n",
        "powers(3)"
      ],
      "metadata": {
        "colab": {
          "base_uri": "https://localhost:8080/"
        },
        "id": "wJXnziESWIcf",
        "outputId": "1d2132b9-6a8f-4a30-c651-966ed38cc60b"
      },
      "execution_count": null,
      "outputs": [
        {
          "output_type": "stream",
          "name": "stdout",
          "text": [
            "81\n"
          ]
        }
      ]
    },
    {
      "cell_type": "code",
      "source": [
        "def powers(m,n) :\n",
        "    print (m**(n))\n",
        "powers(3,4)"
      ],
      "metadata": {
        "colab": {
          "base_uri": "https://localhost:8080/"
        },
        "id": "AVC8k0zlcCFe",
        "outputId": "81dea2c7-aea7-4273-8312-9a44f7ed299d"
      },
      "execution_count": null,
      "outputs": [
        {
          "output_type": "stream",
          "name": "stdout",
          "text": [
            "81\n"
          ]
        }
      ]
    },
    {
      "cell_type": "code",
      "source": [
        "def power(y,c):\n",
        "    x = y**c\n",
        "    return x\n",
        "print(power(2,3))"
      ],
      "metadata": {
        "colab": {
          "base_uri": "https://localhost:8080/"
        },
        "id": "_fVz1NLBcHTV",
        "outputId": "8de59cde-7570-4f53-b4f5-a367d2a31aa0"
      },
      "execution_count": null,
      "outputs": [
        {
          "output_type": "stream",
          "name": "stdout",
          "text": [
            "8\n"
          ]
        }
      ]
    },
    {
      "cell_type": "code",
      "source": [
        "def power(y,c) :\n",
        "    x = y**c\n",
        "    return x\n",
        "def times4(xx) :\n",
        "    z = 4*xx\n",
        "    return z\n",
        "def add7(zz) :\n",
        "    w = zz+7\n",
        "    return w\n",
        "one = int(input('first : '))\n",
        "second= int(input('second : '))\n",
        "print (add7(times4(power(one,second))))"
      ],
      "metadata": {
        "colab": {
          "base_uri": "https://localhost:8080/"
        },
        "id": "AyDu7sAwcN_7",
        "outputId": "93d2ff01-7d5c-4dce-c8ce-515803c4f03c"
      },
      "execution_count": null,
      "outputs": [
        {
          "output_type": "stream",
          "name": "stdout",
          "text": [
            "first : 2\n",
            "second : 3\n",
            "39\n"
          ]
        }
      ]
    },
    {
      "cell_type": "code",
      "source": [
        "x = 5\n",
        "def g() :\n",
        "    x = 14\n",
        "g()\n",
        "print (x)"
      ],
      "metadata": {
        "colab": {
          "base_uri": "https://localhost:8080/"
        },
        "id": "zII1hijscftu",
        "outputId": "e986e3be-32f0-479a-fd62-47724c879c17"
      },
      "execution_count": null,
      "outputs": [
        {
          "output_type": "stream",
          "name": "stdout",
          "text": [
            "5\n"
          ]
        }
      ]
    },
    {
      "cell_type": "code",
      "source": [
        "x= 5\n",
        "def g():\n",
        "    global x\n",
        "    x = 14\n",
        "g()\n",
        "print(x)"
      ],
      "metadata": {
        "colab": {
          "base_uri": "https://localhost:8080/"
        },
        "id": "9itrpyuicn9q",
        "outputId": "a7871228-a416-43c4-fc10-f82e79f89d3f"
      },
      "execution_count": null,
      "outputs": [
        {
          "output_type": "stream",
          "name": "stdout",
          "text": [
            "14\n"
          ]
        }
      ]
    },
    {
      "cell_type": "code",
      "source": [
        "powers = lambda x,y : x**y\n",
        "print (powers(2,3))"
      ],
      "metadata": {
        "colab": {
          "base_uri": "https://localhost:8080/"
        },
        "id": "PO4KwS7_c3Ci",
        "outputId": "56a45d57-0be9-4657-af57-44b5e076f12d"
      },
      "execution_count": null,
      "outputs": [
        {
          "output_type": "stream",
          "name": "stdout",
          "text": [
            "8\n"
          ]
        }
      ]
    },
    {
      "cell_type": "code",
      "source": [
        "powers = [lambda x: 1,lambda x: x,lambda x: x**2,lambda x: x**3]\n",
        "print(powers[0](5))\n",
        "print(powers[1](5))\n",
        "print(powers[2](5))\n",
        "print(powers[3](5))"
      ],
      "metadata": {
        "colab": {
          "base_uri": "https://localhost:8080/"
        },
        "id": "iudpeTT2c80d",
        "outputId": "d664eb32-9e29-4952-c391-da73276c7975"
      },
      "execution_count": null,
      "outputs": [
        {
          "output_type": "stream",
          "name": "stdout",
          "text": [
            "1\n",
            "5\n",
            "25\n",
            "125\n"
          ]
        }
      ]
    },
    {
      "cell_type": "code",
      "source": [
        "mylist = [0,1,2,3,4,5,6,7,8,9]\n",
        "evennumber = list(filter(lambda x: x % 2 == 0 , mylist   ))\n",
        "oddnumber = list(filter(lambda x: x % 2 == 1 , mylist   ))\n",
        "print (evennumber)\n",
        "print (oddnumber)"
      ],
      "metadata": {
        "colab": {
          "base_uri": "https://localhost:8080/"
        },
        "id": "c_l-sc1UdFWb",
        "outputId": "46d38a89-a906-4d77-c924-343efe384292"
      },
      "execution_count": null,
      "outputs": [
        {
          "output_type": "stream",
          "name": "stdout",
          "text": [
            "[0, 2, 4, 6, 8]\n",
            "[1, 3, 5, 7, 9]\n"
          ]
        }
      ]
    },
    {
      "cell_type": "code",
      "source": [
        "mylist = (0,1,2,3,4,5,6,7,8,9)\n",
        "print (\"square list\" , list(map(lambda x: x**2 , mylist)))"
      ],
      "metadata": {
        "colab": {
          "base_uri": "https://localhost:8080/"
        },
        "id": "A8a5ZDVMdKcq",
        "outputId": "d92d5236-6b25-4d66-bc8c-f63132132718"
      },
      "execution_count": null,
      "outputs": [
        {
          "output_type": "stream",
          "name": "stdout",
          "text": [
            "square list [0, 1, 4, 9, 16, 25, 36, 49, 64, 81]\n"
          ]
        }
      ]
    },
    {
      "cell_type": "code",
      "source": [
        "list1 = (1,2,3,4,5,6)\n",
        "def cpower (x):\n",
        "    return x**3\n",
        "print (list(map(lambda x :cpower(x)  , list1)))"
      ],
      "metadata": {
        "colab": {
          "base_uri": "https://localhost:8080/"
        },
        "id": "0RKkwcMOdVQI",
        "outputId": "91747248-3e58-4c09-eab8-43e722a0d240"
      },
      "execution_count": null,
      "outputs": [
        {
          "output_type": "stream",
          "name": "stdout",
          "text": [
            "[1, 8, 27, 64, 125, 216]\n"
          ]
        }
      ]
    },
    {
      "cell_type": "code",
      "source": [
        "def fac(n):\n",
        "    if n ==1 :\n",
        "        return 1\n",
        "    else :\n",
        "        return n * fac(n-1)\n",
        "print(fac(5))"
      ],
      "metadata": {
        "id": "3nfcYePtijB4",
        "colab": {
          "base_uri": "https://localhost:8080/"
        },
        "outputId": "bde8ec9c-6f57-49b9-f485-184e102958a4"
      },
      "execution_count": 16,
      "outputs": [
        {
          "output_type": "stream",
          "name": "stdout",
          "text": [
            "120\n"
          ]
        }
      ]
    },
    {
      "cell_type": "code",
      "source": [
        "def fibon(n):\n",
        "    a = b = 1\n",
        "    result =[]\n",
        "    for i in range(n):\n",
        "        result.append (a)\n",
        "        a , b = b , a+b\n",
        "    return result\n",
        "print (fibon(15))"
      ],
      "metadata": {
        "colab": {
          "base_uri": "https://localhost:8080/"
        },
        "id": "RRu-iuEmohWK",
        "outputId": "e5c366da-6770-4b8b-9192-d4c7b5329250"
      },
      "execution_count": 17,
      "outputs": [
        {
          "output_type": "stream",
          "name": "stdout",
          "text": [
            "[1, 1, 2, 3, 5, 8, 13, 21, 34, 55, 89, 144, 233, 377, 610]\n"
          ]
        }
      ]
    },
    {
      "cell_type": "code",
      "source": [
        "def fibon(n):\n",
        "    a = b = 1\n",
        "    for i in range(n):\n",
        "        yield  a\n",
        "        a , b = b , a+b\n",
        "for x in fibon(15):\n",
        "    print (x)"
      ],
      "metadata": {
        "colab": {
          "base_uri": "https://localhost:8080/"
        },
        "id": "zEs0bY89ovCf",
        "outputId": "aca6e84c-0766-482c-e354-2721e4b45155"
      },
      "execution_count": 18,
      "outputs": [
        {
          "output_type": "stream",
          "name": "stdout",
          "text": [
            "1\n",
            "1\n",
            "2\n",
            "3\n",
            "5\n",
            "8\n",
            "13\n",
            "21\n",
            "34\n",
            "55\n",
            "89\n",
            "144\n",
            "233\n",
            "377\n",
            "610\n"
          ]
        }
      ]
    },
    {
      "cell_type": "code",
      "source": [],
      "metadata": {
        "id": "mH3Y35gco3Or"
      },
      "execution_count": null,
      "outputs": []
    }
  ]
}